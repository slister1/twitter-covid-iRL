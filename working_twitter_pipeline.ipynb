{
  "nbformat": 4,
  "nbformat_minor": 0,
  "metadata": {
    "colab": {
      "provenance": [],
      "machine_shape": "hm"
    },
    "kernelspec": {
      "name": "python3",
      "display_name": "Python 3"
    }
  },
  "cells": [
    {
      "cell_type": "markdown",
      "metadata": {
        "id": "w39BivoO5OtD"
      },
      "source": [
        "**Data Cleaning**"
      ]
    },
    {
      "cell_type": "code",
      "metadata": {
        "id": "kcJnrQfkYhbL",
        "colab": {
          "base_uri": "https://localhost:8080/"
        },
        "outputId": "60f01dbb-4e0b-4264-c635-eab819e57814"
      },
      "source": [
        "!sudo apt-get install python-dev graphviz libgraphviz-dev pkg-config\n",
        "!sudo pip install pygraphviz"
      ],
      "execution_count": null,
      "outputs": [
        {
          "output_type": "stream",
          "text": [
            "Reading package lists... Done\n",
            "Building dependency tree       \n",
            "Reading state information... Done\n",
            "pkg-config is already the newest version (0.29.1-0ubuntu2).\n",
            "python-dev is already the newest version (2.7.15~rc1-1).\n",
            "graphviz is already the newest version (2.40.1-2).\n",
            "The following package was automatically installed and is no longer required:\n",
            "  libnvidia-common-460\n",
            "Use 'sudo apt autoremove' to remove it.\n",
            "The following additional packages will be installed:\n",
            "  libgail-common libgail18 libgtk2.0-0 libgtk2.0-bin libgtk2.0-common\n",
            "  libgvc6-plugins-gtk libxdot4\n",
            "Suggested packages:\n",
            "  gvfs\n",
            "The following NEW packages will be installed:\n",
            "  libgail-common libgail18 libgraphviz-dev libgtk2.0-0 libgtk2.0-bin\n",
            "  libgtk2.0-common libgvc6-plugins-gtk libxdot4\n",
            "0 upgraded, 8 newly installed, 0 to remove and 34 not upgraded.\n",
            "Need to get 2,120 kB of archives.\n",
            "After this operation, 7,128 kB of additional disk space will be used.\n",
            "Get:1 http://archive.ubuntu.com/ubuntu bionic/main amd64 libgtk2.0-common all 2.24.32-1ubuntu1 [125 kB]\n",
            "Get:2 http://archive.ubuntu.com/ubuntu bionic/main amd64 libgtk2.0-0 amd64 2.24.32-1ubuntu1 [1,769 kB]\n",
            "Get:3 http://archive.ubuntu.com/ubuntu bionic/main amd64 libgail18 amd64 2.24.32-1ubuntu1 [14.2 kB]\n",
            "Get:4 http://archive.ubuntu.com/ubuntu bionic/main amd64 libgail-common amd64 2.24.32-1ubuntu1 [112 kB]\n",
            "Get:5 http://archive.ubuntu.com/ubuntu bionic/universe amd64 libxdot4 amd64 2.40.1-2 [15.7 kB]\n",
            "Get:6 http://archive.ubuntu.com/ubuntu bionic/universe amd64 libgvc6-plugins-gtk amd64 2.40.1-2 [18.2 kB]\n",
            "Get:7 http://archive.ubuntu.com/ubuntu bionic/universe amd64 libgraphviz-dev amd64 2.40.1-2 [57.3 kB]\n",
            "Get:8 http://archive.ubuntu.com/ubuntu bionic/main amd64 libgtk2.0-bin amd64 2.24.32-1ubuntu1 [7,536 B]\n",
            "Fetched 2,120 kB in 1s (2,044 kB/s)\n",
            "debconf: unable to initialize frontend: Dialog\n",
            "debconf: (No usable dialog-like program is installed, so the dialog based frontend cannot be used. at /usr/share/perl5/Debconf/FrontEnd/Dialog.pm line 76, <> line 8.)\n",
            "debconf: falling back to frontend: Readline\n",
            "debconf: unable to initialize frontend: Readline\n",
            "debconf: (This frontend requires a controlling tty.)\n",
            "debconf: falling back to frontend: Teletype\n",
            "dpkg-preconfigure: unable to re-open stdin: \n",
            "Selecting previously unselected package libgtk2.0-common.\n",
            "(Reading database ... 160706 files and directories currently installed.)\n",
            "Preparing to unpack .../0-libgtk2.0-common_2.24.32-1ubuntu1_all.deb ...\n",
            "Unpacking libgtk2.0-common (2.24.32-1ubuntu1) ...\n",
            "Selecting previously unselected package libgtk2.0-0:amd64.\n",
            "Preparing to unpack .../1-libgtk2.0-0_2.24.32-1ubuntu1_amd64.deb ...\n",
            "Unpacking libgtk2.0-0:amd64 (2.24.32-1ubuntu1) ...\n",
            "Selecting previously unselected package libgail18:amd64.\n",
            "Preparing to unpack .../2-libgail18_2.24.32-1ubuntu1_amd64.deb ...\n",
            "Unpacking libgail18:amd64 (2.24.32-1ubuntu1) ...\n",
            "Selecting previously unselected package libgail-common:amd64.\n",
            "Preparing to unpack .../3-libgail-common_2.24.32-1ubuntu1_amd64.deb ...\n",
            "Unpacking libgail-common:amd64 (2.24.32-1ubuntu1) ...\n",
            "Selecting previously unselected package libxdot4.\n",
            "Preparing to unpack .../4-libxdot4_2.40.1-2_amd64.deb ...\n",
            "Unpacking libxdot4 (2.40.1-2) ...\n",
            "Selecting previously unselected package libgvc6-plugins-gtk.\n",
            "Preparing to unpack .../5-libgvc6-plugins-gtk_2.40.1-2_amd64.deb ...\n",
            "Unpacking libgvc6-plugins-gtk (2.40.1-2) ...\n",
            "Selecting previously unselected package libgraphviz-dev.\n",
            "Preparing to unpack .../6-libgraphviz-dev_2.40.1-2_amd64.deb ...\n",
            "Unpacking libgraphviz-dev (2.40.1-2) ...\n",
            "Selecting previously unselected package libgtk2.0-bin.\n",
            "Preparing to unpack .../7-libgtk2.0-bin_2.24.32-1ubuntu1_amd64.deb ...\n",
            "Unpacking libgtk2.0-bin (2.24.32-1ubuntu1) ...\n",
            "Setting up libgtk2.0-common (2.24.32-1ubuntu1) ...\n",
            "Setting up libxdot4 (2.40.1-2) ...\n",
            "Setting up libgtk2.0-0:amd64 (2.24.32-1ubuntu1) ...\n",
            "Setting up libgail18:amd64 (2.24.32-1ubuntu1) ...\n",
            "Setting up libgail-common:amd64 (2.24.32-1ubuntu1) ...\n",
            "Setting up libgvc6-plugins-gtk (2.40.1-2) ...\n",
            "Setting up libgraphviz-dev (2.40.1-2) ...\n",
            "Setting up libgtk2.0-bin (2.24.32-1ubuntu1) ...\n",
            "Processing triggers for man-db (2.8.3-2ubuntu0.1) ...\n",
            "Processing triggers for libc-bin (2.27-3ubuntu1.2) ...\n",
            "/sbin/ldconfig.real: /usr/local/lib/python3.7/dist-packages/ideep4py/lib/libmkldnn.so.0 is not a symbolic link\n",
            "\n",
            "Collecting pygraphviz\n",
            "\u001b[?25l  Downloading https://files.pythonhosted.org/packages/3a/d6/2c56f09ee83dbebb62c40487e4c972135661b9984fec9b30b77fb497090c/pygraphviz-1.7.zip (118kB)\n",
            "\u001b[K     |████████████████████████████████| 122kB 6.4MB/s \n",
            "\u001b[?25hBuilding wheels for collected packages: pygraphviz\n",
            "  Building wheel for pygraphviz (setup.py) ... \u001b[?25l\u001b[?25hdone\n",
            "  Created wheel for pygraphviz: filename=pygraphviz-1.7-cp37-cp37m-linux_x86_64.whl size=166117 sha256=3fb495d4f46f5e4598647c68ef0e5b4014d49c1edb7d92289370478d619a57d9\n",
            "  Stored in directory: /root/.cache/pip/wheels/32/59/00/14934a4292c4359eeabcdbf90f33d309b55d0f1be8a1262523\n",
            "Successfully built pygraphviz\n",
            "Installing collected packages: pygraphviz\n",
            "Successfully installed pygraphviz-1.7\n"
          ],
          "name": "stdout"
        }
      ]
    },
    {
      "cell_type": "code",
      "metadata": {
        "id": "IcwpIWy4IEFT"
      },
      "source": [
        "import os\n",
        "from google.colab import drive\n",
        "from random import sample\n",
        "import json\n",
        "import csv\n",
        "import pandas as pd\n",
        "import networkx as nx\n",
        "import matplotlib.pyplot as plt\n",
        "import datetime\n",
        "import numpy as np\n",
        "import math\n",
        "import graphviz\n",
        "import pygraphviz\n",
        "from matplotlib import pylab\n",
        "import operator\n",
        "import re\n",
        "from networkx.drawing.nx_agraph import graphviz_layout\n",
        "from networkx.algorithms.community import greedy_modularity_communities\n",
        "import tensorflow as tf\n",
        "from networkx.algorithms import community\n",
        "import community\n",
        "import requests as rq\n",
        "from bs4 import BeautifulSoup\n",
        "from bs4.element import Comment\n",
        "import time\n",
        "from nltk.corpus import stopwords\n",
        "import nltk\n",
        "from nltk.stem.wordnet import WordNetLemmatizer\n",
        "import string\n",
        "from sklearn.feature_extraction.text import CountVectorizer\n",
        "from sklearn.decomposition import LatentDirichletAllocation as LDA\n",
        "import glob\n",
        "from scipy.stats import entropy"
      ],
      "execution_count": null,
      "outputs": []
    },
    {
      "cell_type": "code",
      "metadata": {
        "id": "DRUxYQeXIN10",
        "colab": {
          "base_uri": "https://localhost:8080/"
        },
        "outputId": "e402a63b-f0ff-4b65-9152-4b8d3b71e995"
      },
      "source": [
        "drive.mount('/content/gdrive', force_remount=True)\n",
        "working_directory = 'My Drive/ML Research ListerVosoughi/SMIP/Data'\n",
        "wd = '/content/gdrive/' + working_directory"
      ],
      "execution_count": null,
      "outputs": [
        {
          "output_type": "stream",
          "text": [
            "Mounted at /content/gdrive\n"
          ],
          "name": "stdout"
        }
      ]
    },
    {
      "cell_type": "code",
      "metadata": {
        "colab": {
          "base_uri": "https://localhost:8080/"
        },
        "id": "GTyUg-CyDQIt",
        "outputId": "0919bd42-3503-40bb-f79b-1787121585c9"
      },
      "source": [
        "! git clone https://github.com/MatthewJA/Inverse-Reinforcement-Learning.git"
      ],
      "execution_count": null,
      "outputs": [
        {
          "output_type": "stream",
          "text": [
            "Cloning into 'Inverse-Reinforcement-Learning'...\n",
            "remote: Enumerating objects: 132, done.\u001b[K\n",
            "remote: Counting objects: 100% (4/4), done.\u001b[K\n",
            "remote: Compressing objects: 100% (4/4), done.\u001b[K\n",
            "remote: Total 132 (delta 0), reused 0 (delta 0), pack-reused 128\u001b[K\n",
            "Receiving objects: 100% (132/132), 37.90 KiB | 1.52 MiB/s, done.\n",
            "Resolving deltas: 100% (69/69), done.\n"
          ],
          "name": "stdout"
        }
      ]
    },
    {
      "cell_type": "code",
      "metadata": {
        "colab": {
          "base_uri": "https://localhost:8080/"
        },
        "id": "qDVUC6B6DgWw",
        "outputId": "2827b730-1d5d-4dff-a035-21a47704a15b"
      },
      "source": [
        "! ls\n",
        "%cd Inverse-Reinforcement-Learning/\n",
        "! ls\n",
        "%cd irl/"
      ],
      "execution_count": null,
      "outputs": [
        {
          "output_type": "stream",
          "text": [
            "2020-01\t\t\t\tpredictions_week17.0.txt\n",
            "2020-02\t\t\t\tpredictions_week18.0.txt\n",
            "2020-03\t\t\t\tpredictions_week19.0.txt\n",
            "2020-04\t\t\t\tpredictions_week20.0.txt\n",
            "2020-05\t\t\t\tpredictions_week21.0.txt\n",
            "2020-06\t\t\t\tpredictions_week22.0.txt\n",
            "2020-07\t\t\t\tpredictions_week23.0.txt\n",
            "2020-08\t\t\t\tpredictions_week26.0.txt\n",
            "2020-09\t\t\t\tpredictions_week27.0.txt\n",
            "all_tweets.tsv\t\t\tpredictions_week28.0.txt\n",
            "att_mask_final_.txt\t\tpredictions_week29.0.txt\n",
            "encoded_tweets1.txt\t\tpredictions_week30.0.txt\n",
            "encoded_tweets.txt\t\tpredictions_week31.0.txt\n",
            "inputs.pt\t\t\tpredictions_week32.0.txt\n",
            "Inverse-Reinforcement-Learning\tpredictions_week33.0.txt\n",
            "masklabel1.tsv\t\t\tpredictions_week34.0.txt\n",
            "masklabels.tsv\t\t\tpredictions_week35.0.txt\n",
            "masks.pt\t\t\tpredictions_week36.0.txt\n",
            "Model\t\t\t\tpredictions_week37.0.txt\n",
            "mod.png\t\t\t\tpredictions_week38.0.txt\n",
            "net_stats.png\t\t\tpredictions_week5.0.txt\n",
            "padded_tweets.txt\t\tpredictions_week6.0.txt\n",
            "predictions_week10.0.txt\tpredictions_week7.0.txt\n",
            "predictions_week11.0.txt\tpredictions_week8.0.txt\n",
            "predictions_week12.0.txt\tpredictions_week9.0.txt\n",
            "predictions_week13.0.txt\tproanti.png\n",
            "predictions_week14.0.txt\trt_fig.png\n",
            "predictions_week15.0.txt\trt_net_ex.png\n",
            "predictions_week16.0.txt\n",
            "/content/gdrive/My Drive/ML Research ListerVosoughi/SMIP/Data/Inverse-Reinforcement-Learning\n",
            "examples  irl  LICENSE\tREADME.md\n",
            "/content/gdrive/My Drive/ML Research ListerVosoughi/SMIP/Data/Inverse-Reinforcement-Learning/irl\n"
          ],
          "name": "stdout"
        }
      ]
    },
    {
      "cell_type": "code",
      "metadata": {
        "colab": {
          "base_uri": "https://localhost:8080/"
        },
        "id": "YPY3Pr8eEP5t",
        "outputId": "0f13c6ba-42e4-4e30-fa82-48c5e282598d"
      },
      "source": [
        "! ls"
      ],
      "execution_count": null,
      "outputs": [
        {
          "output_type": "stream",
          "text": [
            "deep_maxent.py\t__init__.py  linear_irl.py  maxent.py  mdp  value_iteration.py\n"
          ],
          "name": "stdout"
        }
      ]
    },
    {
      "cell_type": "code",
      "metadata": {
        "id": "V71cM4SwEWYc"
      },
      "source": [
        "import linear_irl"
      ],
      "execution_count": null,
      "outputs": []
    },
    {
      "cell_type": "code",
      "metadata": {
        "id": "CuVWKV03TaBf"
      },
      "source": [
        "sample_size = 100000\n",
        "all_tweet_ids = 'All Tweet IDs'\n",
        "sampled_tweet_ids = 'Sampled Tweet IDs'\n"
      ],
      "execution_count": null,
      "outputs": []
    },
    {
      "cell_type": "markdown",
      "metadata": {
        "id": "PeOB-Z1EyaG6"
      },
      "source": [
        "## **Data Preparation** ##"
      ]
    },
    {
      "cell_type": "code",
      "metadata": {
        "id": "cVpIaakkJBgU"
      },
      "source": [
        "#NEED TO CHANGE THIS BEFORE RUNNING AGAIN TO INCORPORATE SUBFOLDERS WITHIN MONTHLY DIRECTORIES\n",
        "def create_sample_textfiles():\n",
        "  os.chdir(wd)\n",
        "  dirpath = os.getcwd()\n",
        "  monthly_dirs = os.listdir(dirpath)\n",
        "  for month in monthly_dirs:\n",
        "    all_files_month = os.listdir(dirpath + '/' + month)\n",
        "    days_collected = {}\n",
        "    for f in all_files_month:\n",
        "      if f[:3] == 'cor':\n",
        "        day = f[29:31]\n",
        "        if day not in days_collected.keys():\n",
        "          days_collected[day] = []\n",
        "        this_file = open(dirpath + '/' + month + '/' + f, 'r', errors='ignore')\n",
        "        file_ids = this_file.readlines()\n",
        "        for id in file_ids: days_collected[day].append(id.strip())\n",
        "    count = 0\n",
        "    for day in days_collected.keys():\n",
        "      # print(type(day))\n",
        "      if len(days_collected[day]) > sample_size:\n",
        "        sampled_ids = sample(days_collected[day], sample_size)\n",
        "        days_collected[day] = sampled_ids\n",
        "      count+= len(days_collected[day])\n",
        "      with open(dirpath + '/' + month + '/' + 'sampled_ids_' + month + '.txt', 'a') as monthly_file:\n",
        "        for id in days_collected[day]:\n",
        "          monthly_file.write(id + '\\n')\n",
        "    print(count)"
      ],
      "execution_count": null,
      "outputs": []
    },
    {
      "cell_type": "code",
      "metadata": {
        "id": "U7ZEG6GkSTf6"
      },
      "source": [
        "def json_to_tsv(month):\n",
        "  os.chdir(wd)\n",
        "  dirpath = os.getcwd()\n",
        "  monthly_dirs = os.listdir(dirpath)\n",
        "  all_files_month = os.listdir(dirpath + '/' + month)\n",
        "  if sampled_tweet_ids in all_files_month:\n",
        "    sampled_file = 'sampled_ids_' + month + '.jsonl'\n",
        "    if sampled_file in os.listdir(dirpath + '/' + month + '/' + sampled_tweet_ids):\n",
        "        json_file = open(dirpath + '/' + month + '/' + sampled_tweet_ids + '/' + sampled_file, 'r')\n",
        "        tsv_file = open(dirpath + '/' + month + '/'+ sampled_tweet_ids + '/' + 'sampled_ids_' + month + '.tsv', 'a')\n",
        "        tsv_writer = csv.writer(tsv_file, delimiter='\\t')\n",
        "        keys = None\n",
        "        keys_ = ['hashtags', 'user id', 'username', 'name', 'text', 'linked urls', 'bio', 'retweeted user id', 'retweet_text', 'time']\n",
        "        tsv_writer.writerow(keys_)\n",
        "        for row in json_file:\n",
        "          data = json.loads(row)\n",
        "          if keys == None:\n",
        "            keys = list(data.keys())\n",
        "            # REMOVING IRRELEVANT INFORMATION (not necessary but nice)\n",
        "            k = ['id', 'id_str', 'truncated', 'display_text_range', 'in_reply_to_status_id', 'in_reply_to_status_id_str', 'in_reply_to_user_id', 'in_reply_to_user_id_str', 'contributors', 'is_quote_status', 'quoted_status_id', 'quoted_status_id_str', 'quoted_status_permalink', 'favorite_count', 'favorited']\n",
        "            # for j in k:\n",
        "            #   keys.remove(j)\n",
        "          # PARSING RELEVANT DATA\n",
        "          if data['lang'] == 'en':\n",
        "            hashtags = data['entities']['hashtags']\n",
        "            user_id = data['user']['id']\n",
        "            username = data['user']['screen_name']\n",
        "            name = data['user']['name']\n",
        "            # location = data['geo'] # to use geo, coordinates, or location in bio???\n",
        "            text = data['full_text']\n",
        "            linked_urls = data['entities']['urls']\n",
        "            bio = data['user']['description']\n",
        "            if 'retweeted_status' in data.keys():\n",
        "              rt_user_id = data['retweeted_status']['user']['id']\n",
        "              rt_text = data['retweeted_status']['full_text'] # adding because may be relevant...\n",
        "            else:\n",
        "              rt_user_id = None\n",
        "              rt_text = None\n",
        "            time = data['created_at']\n",
        "            row_to_write = [hashtags, user_id, username, name, text, linked_urls, bio, rt_user_id, rt_text, time]\n",
        "            tsv_writer.writerow(row_to_write)\n",
        "        json_file.close()\n",
        "        tsv_file.close()"
      ],
      "execution_count": null,
      "outputs": []
    },
    {
      "cell_type": "code",
      "metadata": {
        "id": "ddAZykAzREW_"
      },
      "source": [
        "def tsv_to_df(month):\n",
        "  os.chdir(wd)\n",
        "  dirpath = os.getcwd()\n",
        "  monthly_dirs = os.listdir(dirpath)\n",
        "  # for month in monthly_dirs:\n",
        "  month_dirpath = dirpath + '/' + month\n",
        "  samples = 'Sampled Tweet IDs'\n",
        "  if samples in os.listdir(month_dirpath):\n",
        "    sample_dirpath = month_dirpath + '/' + samples\n",
        "    sample_filename = 'sampled_ids_' + month + '.tsv'\n",
        "    samplefile_dirpath = sample_dirpath + '/' + sample_filename\n",
        "    if sample_filename in os.listdir(sample_dirpath):\n",
        "      f = open(samplefile_dirpath, mode='r')\n",
        "      tsv = csv.reader((x.replace('\\0', '') for x in f), delimiter='\\t')\n",
        "\n",
        "      # makes sure we are only adding necessary data to our df\n",
        "      lines = []\n",
        "      first_line = True\n",
        "      right_cols = ['hashtags', 'user id', 'week', 'text', 'linked urls', 'retweeted user id', 'retweet_text', 'time']\n",
        "      cols_to_drop = []\n",
        "      for line in tsv:\n",
        "        if first_line:\n",
        "          for col_index in range(len(line)):\n",
        "            if line[col_index] not in right_cols:\n",
        "              cols_to_drop.append(col_index)\n",
        "          first_line = False\n",
        "        if len(cols_to_drop) != 0:\n",
        "          num_removed = 0\n",
        "          # as we remove cols 1 by 1, the indices drop by one (so we need to count the number we've removed and subtract that much from the index)\n",
        "          for i in cols_to_drop:\n",
        "            line.remove(line[i-num_removed])\n",
        "            num_removed+=1\n",
        "        lines.append(line)\n",
        "      f.close()\n",
        "\n",
        "      df = pd.DataFrame(data = lines, columns = lines[0])\n",
        "      times = []\n",
        "      weeks = []\n",
        "      for t in df['time']:\n",
        "        if t != None and t!= 'time':\n",
        "          time = datetime.datetime.strptime(t, '%a %b %d %H:%M:%S %z %Y').strftime('%d/%m/%Y %H:%M:%S')\n",
        "          week = datetime.datetime.strptime(time,'%d/%m/%Y %H:%M:%S').isocalendar()[1]\n",
        "          weeks.append(week)\n",
        "          if not check_in_month(time, month): print(time)\n",
        "          times.append(time)\n",
        "        else:\n",
        "          times.append(None)\n",
        "          weeks.append(None)\n",
        "      df['time'] = times\n",
        "      df['week'] = weeks\n",
        "      df['time'] = pd.to_datetime(df['time'], errors='coerce')\n",
        "      return df"
      ],
      "execution_count": null,
      "outputs": []
    },
    {
      "cell_type": "code",
      "metadata": {
        "id": "p4dKLrrQUbCY"
      },
      "source": [
        "def check_in_month(time, month):\n",
        "  time_m = time.split('/')[1]\n",
        "  m = month.split('-')[1]\n",
        "  return time_m == m\n"
      ],
      "execution_count": null,
      "outputs": []
    },
    {
      "cell_type": "code",
      "metadata": {
        "id": "zR1ejLAGhPt4"
      },
      "source": [
        "def create_weekly_dfs(daily_df):\n",
        "  print(daily_df.week.unique())\n",
        "  weekly_dfs = []\n",
        "  for w in daily_df.week.unique():\n",
        "    if not math.isnan(w):\n",
        "      weekly_df = daily_df[daily_df['week'] == w]\n",
        "      weekly_dfs.append(weekly_df)\n",
        "  return weekly_dfs"
      ],
      "execution_count": null,
      "outputs": []
    },
    {
      "cell_type": "markdown",
      "metadata": {
        "id": "Z0LjN_kJ5blS"
      },
      "source": [
        "## **Graph of Retweet Networks**"
      ]
    },
    {
      "cell_type": "code",
      "metadata": {
        "id": "fFkqtgERRtsI"
      },
      "source": [
        " def save_graph(graph,file_name):\n",
        "    #initialze Figure\n",
        "    plt.figure(num=None, figsize=(20, 20), dpi=80)\n",
        "    plt.axis('off')\n",
        "    fig = plt.figure(1)\n",
        "    pos = nx.spring_layout(graph)\n",
        "    nx.draw_networkx_nodes(graph,pos)\n",
        "    nx.draw_networkx_edges(graph,pos)\n",
        "    nx.draw_networkx_labels(graph,pos)\n",
        "\n",
        "    cut = 1.00\n",
        "    xmax = cut * max(xx for xx, yy in pos.values())\n",
        "    ymax = cut * max(yy for xx, yy in pos.values())\n",
        "    plt.xlim(0, xmax)\n",
        "    plt.ylim(0, ymax)\n",
        "\n",
        "    plt.savefig(file_name,bbox_inches=\"tight\")\n",
        "    pylab.close()\n",
        "    del fig\n"
      ],
      "execution_count": null,
      "outputs": []
    },
    {
      "cell_type": "code",
      "metadata": {
        "id": "OrGrP9xu0Ec7"
      },
      "source": [
        "def create_weekly_graph(weekly_df):\n",
        "  weights = {}\n",
        "  users ={}\n",
        "  retweets = []\n",
        "  for index, row in weekly_df.iterrows():\n",
        "    if not str(row['retweeted user id']) == '':\n",
        "      user_id = row['user id']\n",
        "      rt_user_id = row['retweeted user id']\n",
        "      if user_id not in users:\n",
        "        users[user_id] = 0\n",
        "        retweets.append((rt_user_id, user_id))\n",
        "        if (rt_user_id, user_id) not in weights:\n",
        "          weights[(rt_user_id, user_id)] = 0\n",
        "        else: weights[(rt_user_id, user_id)] += 1\n",
        "  weights_for_graph= []\n",
        "  for tup in weights.keys():\n",
        "    weights_for_graph.append((tup[0], tup[1], weights[tup]))\n",
        "  DWG = nx.DiGraph()\n",
        "  DWG.add_nodes_from(users.keys())\n",
        "  DWG.add_weighted_edges_from(weights_for_graph)\n",
        "  return DWG"
      ],
      "execution_count": null,
      "outputs": []
    },
    {
      "cell_type": "code",
      "metadata": {
        "id": "cuvhtK2dydr7"
      },
      "source": [
        "def create_weekly_graph1(weekly_df):\n",
        "  DWG = nx.DiGraph()\n",
        "  df_rt = weekly_df[['retweeted user id', 'user id']]\n",
        "  DWG = nx.from_pandas_edgelist(df_rt, 'retweeted user id', 'user id')\n",
        "  return DWG"
      ],
      "execution_count": null,
      "outputs": []
    },
    {
      "cell_type": "code",
      "metadata": {
        "id": "nQCdIFs2xcgi"
      },
      "source": [
        "def create_weekly_graph2(weekly_df):\n",
        "  df_rt = pd.DataFrame(weekly_df[['retweeted user id', 'user id']])\n",
        "  df_rt['retweeted user id'] = df_rt['retweeted user id'].astype(str).astype(float)\n",
        "  df_rt['user id'] = df_rt['user id'].astype(str).astype(int)\n",
        "\n",
        "  df_rt = df_rt.dropna()\n",
        "\n",
        "  df_rt['retweeted user id'] = df_rt['retweeted user id'].astype(int)\n",
        "\n",
        "  G = nx.Graph()\n",
        "  for idx, tweet in df_rt.iterrows():\n",
        "    user = tweet['user id']\n",
        "    rt_user = tweet['retweeted user id']\n",
        "\n",
        "    temp = df_rt[df_rt['user id'] == user]\n",
        "    w = len(temp[temp['retweeted user id'] == rt_user])\n",
        "\n",
        "    temp = df_rt[df_rt['user id'] == rt_user]\n",
        "    if len(temp) > 0: w += len(temp[temp['retweeted user id'] == user])\n",
        "    G.add_edge(user, rt_user, weight=w)\n",
        "  return G"
      ],
      "execution_count": null,
      "outputs": []
    },
    {
      "cell_type": "markdown",
      "metadata": {
        "id": "IIli7uB75z3I"
      },
      "source": [
        "## **Initialization**"
      ]
    },
    {
      "cell_type": "code",
      "metadata": {
        "colab": {
          "base_uri": "https://localhost:8080/"
        },
        "id": "8KaWedUk1GAB",
        "outputId": "de1e00b3-31dd-4fda-e987-e0af182b50d3"
      },
      "source": [
        "print(os.getcwd())"
      ],
      "execution_count": null,
      "outputs": [
        {
          "output_type": "stream",
          "text": [
            "/content\n"
          ],
          "name": "stdout"
        }
      ]
    },
    {
      "cell_type": "code",
      "metadata": {
        "colab": {
          "base_uri": "https://localhost:8080/"
        },
        "id": "VCuGCQGgFfu5",
        "outputId": "8d871d86-955e-46b0-e638-d1eb31225932"
      },
      "source": [
        "# if not /content\n",
        "os.chdir('/content/')\n",
        "print(os.getcwd())"
      ],
      "execution_count": null,
      "outputs": [
        {
          "output_type": "stream",
          "text": [
            "/content\n"
          ],
          "name": "stdout"
        }
      ]
    },
    {
      "cell_type": "code",
      "metadata": {
        "id": "JSmtII3n1dJy"
      },
      "source": [
        "all_data = []\n",
        "os.chdir(wd)\n",
        "for f in os.listdir(os.getcwd()):\n",
        "  if f[:4] == '2020':\n",
        "    all_data.append(f)"
      ],
      "execution_count": null,
      "outputs": []
    },
    {
      "cell_type": "code",
      "metadata": {
        "colab": {
          "base_uri": "https://localhost:8080/"
        },
        "id": "MNcWm6_HdBzL",
        "outputId": "2e21401c-2072-4602-b447-08dd6a199aad"
      },
      "source": [
        "print(all_data)"
      ],
      "execution_count": null,
      "outputs": [
        {
          "output_type": "stream",
          "text": [
            "['2020-01', '2020-02', '2020-03', '2020-04', '2020-05', '2020-06', '2020-07', '2020-08', '2020-09']\n"
          ],
          "name": "stdout"
        }
      ]
    },
    {
      "cell_type": "code",
      "metadata": {
        "colab": {
          "base_uri": "https://localhost:8080/"
        },
        "id": "UxwQlIGaZ7Jn",
        "outputId": "74b18cd0-e9b9-4816-a243-106315e52fbb"
      },
      "source": [
        "# only needed to run to create all_tweets.tsv\n",
        "df = pd.DataFrame()\n",
        "for month in all_data:\n",
        "  monthly_df = tsv_to_df(month)\n",
        "  print('Finished with month: ' + month)\n",
        "  df = pd.concat([df, monthly_df], ignore_index=True)\n",
        "# compression_opts = dict(method='zip', archive_name='all_tweets.csv')\n",
        "df.to_csv('all_tweets.tsv', index=False, sep='\\t')"
      ],
      "execution_count": null,
      "outputs": [
        {
          "output_type": "stream",
          "text": [
            "Finished with month: 2020-01\n",
            "Finished with month: 2020-02\n",
            "Finished with month: 2020-03\n",
            "Finished with month: 2020-04\n",
            "Finished with month: 2020-05\n",
            "Finished with month: 2020-06\n",
            "30/06/2020 23:59:59\n",
            "30/06/2020 23:59:58\n",
            "30/06/2020 23:59:58\n",
            "30/06/2020 23:59:59\n",
            "30/06/2020 23:59:55\n",
            "Finished with month: 2020-07\n",
            "31/07/2020 23:59:57\n",
            "Finished with month: 2020-08\n",
            "31/08/2020 23:59:55\n",
            "31/08/2020 23:59:58\n",
            "31/08/2020 23:59:58\n",
            "31/08/2020 23:59:55\n",
            "31/08/2020 23:59:55\n",
            "31/08/2020 23:59:55\n",
            "31/08/2020 23:59:58\n",
            "31/08/2020 23:59:58\n",
            "31/08/2020 23:59:58\n",
            "31/08/2020 23:59:58\n",
            "31/08/2020 23:59:58\n",
            "31/08/2020 23:59:58\n",
            "Finished with month: 2020-09\n"
          ],
          "name": "stdout"
        }
      ]
    },
    {
      "cell_type": "code",
      "metadata": {
        "id": "m-CQohZ5hogX"
      },
      "source": [
        "df = pd.read_csv('all_tweets.tsv', sep='\\t', header=0, low_memory=False)"
      ],
      "execution_count": null,
      "outputs": []
    },
    {
      "cell_type": "code",
      "metadata": {
        "colab": {
          "base_uri": "https://localhost:8080/"
        },
        "id": "_LKqe0A3mw_x",
        "outputId": "94389f63-8eb3-4038-edb6-87ee1f45a4b5"
      },
      "source": [
        "df.dtypes"
      ],
      "execution_count": null,
      "outputs": [
        {
          "output_type": "execute_result",
          "data": {
            "text/plain": [
              "hashtags              object\n",
              "user id               object\n",
              "text                  object\n",
              "linked urls           object\n",
              "retweeted user id     object\n",
              "retweet_text          object\n",
              "time                  object\n",
              "week                 float64\n",
              "dtype: object"
            ]
          },
          "metadata": {
            "tags": []
          },
          "execution_count": 11
        }
      ]
    },
    {
      "cell_type": "code",
      "metadata": {
        "id": "gBpq30EzolVM"
      },
      "source": [
        "df['time'] = pd.to_datetime(df['time'], errors='coerce')"
      ],
      "execution_count": null,
      "outputs": []
    },
    {
      "cell_type": "code",
      "metadata": {
        "colab": {
          "base_uri": "https://localhost:8080/"
        },
        "id": "HpeD9dIYpiU4",
        "outputId": "e5ab5fc1-9bfc-464e-c49e-cc3b96c4b046"
      },
      "source": [
        "weekly_dfs = create_weekly_dfs(df)"
      ],
      "execution_count": null,
      "outputs": [
        {
          "output_type": "stream",
          "text": [
            "[nan  9.  8.  6.  5.  7. 12. 10. 13. 14. 11. 15. 16. 17. 18. 20. 19. 22.\n",
            " 21. 23. 26. 30. 29. 27. 28. 31. 34. 33. 35. 32. 38. 37. 36.]\n"
          ],
          "name": "stdout"
        }
      ]
    },
    {
      "cell_type": "code",
      "metadata": {
        "colab": {
          "base_uri": "https://localhost:8080/"
        },
        "id": "ndBWDfQetzso",
        "outputId": "6e9bdcf5-d4cc-4edd-ee27-27144d7e1a73"
      },
      "source": [
        "filtered_users_dfs = []\n",
        "filtered_users_dfs_weeks = {}\n",
        "initial_user_set = False\n",
        "for w in weekly_dfs:\n",
        "  if len(w) > 10000:\n",
        "    if initial_user_set == False:\n",
        "      users = set(w['user id'])\n",
        "      # print(len(users))\n",
        "      initial_user_set = True\n",
        "    else:\n",
        "      temp = users.intersection(set(w['user id']))\n",
        "      # print(len(temp))\n",
        "      users = temp\n",
        "    filtered_users_dfs.append(w)\n",
        "\n",
        "\n",
        "users = {x for x in users if x==x}\n",
        "print(len(users))\n",
        "filtered_graphs = []\n",
        "for w in filtered_users_dfs:\n",
        "  df = w[w['user id'].isin(users)]\n",
        "  # print(str(w.week.iloc[0]) +': ' + str(len(df)))\n",
        "  # print(datetime.datetime.fromisocalendar(2020, w.week.iloc[0], 1))\n",
        "  graph = create_weekly_graph2(df)\n",
        "  filtered_users_dfs_weeks[graph] = w.week.iloc[0]\n",
        "  filtered_graphs.append(graph)\n",
        "\n",
        "\n",
        "\n",
        "\n",
        ""
      ],
      "execution_count": null,
      "outputs": [
        {
          "output_type": "stream",
          "text": [
            "29\n"
          ],
          "name": "stdout"
        }
      ]
    },
    {
      "cell_type": "code",
      "metadata": {
        "colab": {
          "base_uri": "https://localhost:8080/",
          "height": 387
        },
        "id": "Iq8BlmgCp8Nv",
        "outputId": "82344e62-371c-4724-968a-b2dc80e90b25"
      },
      "source": [
        "\n",
        "# Create plot for number of retweets\n",
        "month_dict = {1: \"January\", 2: \"February\", 3: \"March\", 4:\"April\", 5:\"May\", 6:\"June\", 7:\"July\", 8:\"August\", 9: \"September\"}\n",
        "num_retweets = [len(w) for w in filtered_users_dfs]\n",
        "\n",
        "weeks = [int(w.iloc[0].week) for w in filtered_users_dfs]\n",
        "months = [w.time.iloc[0].month for w in filtered_users_dfs]\n",
        "# print(month_dict2)\n",
        "weeks, num_retweets, months = (list(t) for t in zip(*sorted(zip(weeks, num_retweets, months))))\n",
        "months = [month_dict[w] for w in months]\n",
        "# print(num_retweets)\n",
        "# weeks = [month_dict[w] for w in weeks]\n",
        "# print(weeks)\n",
        "# plt.plot(weeks, num_retweets)\n",
        "# plt.show()\n",
        "print(len(weeks))\n",
        "# print(weeks)\n",
        "fig = plt.figure()\n",
        "ax = fig.add_axes([0,0,1,1])\n",
        "\n",
        "ax.bar(np.arange(28),num_retweets, color=\"salmon\")\n",
        "plt.xlabel(\"Gregorian calendar week\")\n",
        "plt.ylabel(\"Number of Retweets\")\n",
        "plt.title(\"Number of Retweets per Week in Retweet Network\")\n",
        "plt.xticks(np.arange(28), labels=weeks, fontsize= 8, rotation = 45)\n",
        "plt.savefig(os.getcwd() + \"/rt_fig.png\", bbox_inches = \"tight\")\n",
        "plt.show()\n"
      ],
      "execution_count": null,
      "outputs": [
        {
          "output_type": "stream",
          "text": [
            "28\n"
          ],
          "name": "stdout"
        },
        {
          "output_type": "display_data",
          "data": {
            "image/png": "[encoded data removed]",
            "text/plain": [
              "<Figure size 432x288 with 1 Axes>"
            ]
          },
          "metadata": {
            "tags": [],
            "needs_background": "light"
          }
        }
      ]
    },
    {
      "cell_type": "code",
      "metadata": {
        "colab": {
          "base_uri": "https://localhost:8080/",
          "height": 1000
        },
        "id": "NG-ow4QYp_70",
        "outputId": "302e1e78-1649-4a9b-8e14-8db2df8fae32"
      },
      "source": [
        "g1, g2, g3, g4 = filtered_graphs[0], filtered_graphs[1], filtered_graphs[2], filtered_graphs[3]\n",
        "f = plt.figure(figsize=(18,18))\n",
        "f.tight_layout()\n",
        "\n",
        "\n",
        "# Subplot 1\n",
        "plt.subplot(2, 2, 1)\n",
        "week1 = filtered_users_dfs_weeks[g1]\n",
        "nx.draw(g1, edgecolors='red', node_color='lightgray', node_size=25)\n",
        "plt.title('Week ' + str(int(week1)) + \": February 24-March 21, 2020\", fontsize=12)\n",
        "\n",
        "\n",
        "# Subplot 2\n",
        "plt.subplot(2, 2, 2)\n",
        "week2 = filtered_users_dfs_weeks[g2]\n",
        "nx.draw(g2, edgecolors='red', node_color='lightgray', node_size=25)\n",
        "plt.title('Week ' + str(int(week2))+ \": March 16-March 22, 2020\", fontsize=12)\n",
        "\n",
        "# Subplot 3\n",
        "plt.subplot(2, 2, 3)\n",
        "week3 = filtered_users_dfs_weeks[g3]\n",
        "nx.draw(g3, edgecolors='red', node_color='lightgray', node_size=25)\n",
        "plt.title('Week ' + str(int(week3))+ \": March 2-March 8, 2020\", fontsize=12)\n",
        "\n",
        "# Subplot 4\n",
        "plt.subplot(2, 2, 4)\n",
        "week4 = filtered_users_dfs_weeks[g4]\n",
        "nx.draw(g4, edgecolors='red', node_color='lightgray', node_size=25)\n",
        "plt.title('Week ' + str(int(week4))+ \": March 23-March 29, 2020\", fontsize=12)\n",
        "plt.savefig(os.getcwd() + \"/example_networks.png\", bbox_inches = \"tight\")\n",
        "plt.show()"
      ],
      "execution_count": null,
      "outputs": [
        {
          "output_type": "display_data",
          "data": {
            "image/png": "[encoded data removed]",
            "text/plain": [
              "<Figure size 1296x1296 with 4 Axes>"
            ]
          },
          "metadata": {
            "tags": []
          }
        }
      ]
    },
    {
      "cell_type": "code",
      "metadata": {
        "colab": {
          "base_uri": "https://localhost:8080/",
          "height": 482
        },
        "id": "yG8AbwZP5PvT",
        "outputId": "279282df-e357-4f2d-c6ab-567c588703ce"
      },
      "source": [
        "f = plt.figure(figsize=(16,8))\n",
        "f.tight_layout()\n",
        "\n",
        "plt.subplot(1, 2, 1)\n",
        "max_mod_g = filtered_graphs[np.argmax(np.array([community.modularity(community.best_partition(g), g) for g in filtered_graphs]))]\n",
        "week = int(filtered_users_dfs_weeks[max_mod_g])\n",
        "partition = community.best_partition(max_mod_g)\n",
        "pos = nx.spring_layout(max_mod_g)\n",
        "plt.axis('off')\n",
        "nx.draw_networkx_nodes(max_mod_g, pos, node_size=60, cmap=plt.cm.RdYlBu, node_color=list(partition.values()), edgecolors=\"black\")\n",
        "nx.draw_networkx_edges(max_mod_g, pos, alpha=0.3)\n",
        "plt.title('Week ' + str(int(week))+ \": June 22-June 28, 2020\", fontsize=12)\n",
        "\n",
        "plt.subplot(1,2,2)\n",
        "min_mod_g = filtered_graphs[np.argmin(np.array([community.modularity(community.best_partition(g), g) for g in filtered_graphs]))]\n",
        "week = int(filtered_users_dfs_weeks[min_mod_g])\n",
        "partition = community.best_partition(min_mod_g)\n",
        "pos = nx.spring_layout(min_mod_g)\n",
        "plt.axis('off')\n",
        "nx.draw_networkx_nodes(min_mod_g, pos, node_size=60, cmap=plt.cm.RdYlBu, node_color=list(partition.values()), edgecolors=\"black\")\n",
        "nx.draw_networkx_edges(min_mod_g, pos, alpha=0.3)\n",
        "plt.title('Week ' + str(int(week))+ \": March 2-March 8, 2020\", fontsize=12)\n",
        "\n",
        "plt.savefig(os.getcwd() + \"/community_color_networks.png\", bbox_inches = \"tight\")\n",
        "plt.show()"
      ],
      "execution_count": null,
      "outputs": [
        {
          "output_type": "display_data",
          "data": {
            "image/png": "[encoded data removed]",
            "text/plain": [
              "<Figure size 1152x576 with 2 Axes>"
            ]
          },
          "metadata": {
            "tags": []
          }
        }
      ]
    },
    {
      "cell_type": "markdown",
      "metadata": {
        "id": "q7eY8Saq-exE"
      },
      "source": [
        "real community detection"
      ]
    },
    {
      "cell_type": "code",
      "metadata": {
        "id": "xGECGBEa6X-F"
      },
      "source": [
        "communities_filtered = {}\n",
        "for g in filtered_graphs:\n",
        "  week = filtered_users_dfs_weeks[g]\n",
        "  part = community.best_partition(g)\n",
        "  mod = community.modularity(part, g)\n",
        "  communities_filtered[week] = mod\n"
      ],
      "execution_count": null,
      "outputs": []
    },
    {
      "cell_type": "code",
      "metadata": {
        "colab": {
          "base_uri": "https://localhost:8080/",
          "height": 177
        },
        "id": "vMyR6qlh4rcx",
        "outputId": "4c907a59-e295-4365-e0fd-acfd5509203f"
      },
      "source": [
        "num_nodes = [g.number_of_nodes() for g in filtered_graphs]\n",
        "num_edges = [g.number_of_edges() for g in filtered_graphs]\n",
        "ccs = [nx.number_connected_components(g) for g in filtered_graphs]\n",
        "mod = [m for m in communities_filtered.values()]\n",
        "w = [filtered_users_dfs_weeks[g] for g in filtered_graphs]\n",
        "\n",
        "\n",
        "w, num_nodes, num_edges, ccs, mod= (list(t) for t in zip(*sorted(zip(w, num_nodes, num_edges, ccs, mod))))\n",
        "\n",
        "summary_stats = {\"Week\": w, \"# Nodes\": num_nodes, \"# Edges\": num_edges, \"# CCs\": ccs, \"Modularity\": mod}\n",
        "ss_df = pd.DataFrame(summary_stats)\n",
        "ss_df.to_latex(index=False)"
      ],
      "execution_count": null,
      "outputs": [
        {
          "output_type": "execute_result",
          "data": {
            "application/vnd.google.colaboratory.intrinsic+json": {
              "type": "string"
            },
            "text/plain": [
              "'\\\\begin{tabular}{rrrrr}\\n\\\\toprule\\n Week &  \\\\# Nodes &  \\\\# Edges &  \\\\# CCs &  Modularity \\\\\\\\\\n\\\\midrule\\n  9.0 &       87 &       63 &     24 &    0.914792 \\\\\\\\\\n 10.0 &      262 &      258 &     10 &    0.802715 \\\\\\\\\\n 11.0 &      190 &      169 &     22 &    0.900658 \\\\\\\\\\n 12.0 &      163 &      139 &     24 &    0.910247 \\\\\\\\\\n 13.0 &      188 &      168 &     20 &    0.905614 \\\\\\\\\\n 14.0 &      189 &      168 &     21 &    0.907649 \\\\\\\\\\n 15.0 &      220 &      204 &     17 &    0.877533 \\\\\\\\\\n 16.0 &      234 &      220 &     17 &    0.882972 \\\\\\\\\\n 17.0 &      226 &      210 &     17 &    0.869142 \\\\\\\\\\n 18.0 &      182 &      164 &     19 &    0.908149 \\\\\\\\\\n 19.0 &      191 &      175 &     16 &    0.889656 \\\\\\\\\\n 20.0 &      213 &      197 &     17 &    0.871320 \\\\\\\\\\n 21.0 &      132 &      109 &     23 &    0.891405 \\\\\\\\\\n 22.0 &      123 &      102 &     21 &    0.918800 \\\\\\\\\\n 23.0 &      164 &      143 &     22 &    0.887070 \\\\\\\\\\n 26.0 &       65 &       42 &     23 &    0.932396 \\\\\\\\\\n 27.0 &      191 &      173 &     19 &    0.902213 \\\\\\\\\\n 28.0 &      241 &      232 &     11 &    0.871552 \\\\\\\\\\n 29.0 &      252 &      241 &     13 &    0.898735 \\\\\\\\\\n 30.0 &      245 &      236 &     14 &    0.879035 \\\\\\\\\\n 31.0 &      209 &      203 &     12 &    0.847282 \\\\\\\\\\n 32.0 &       91 &       69 &     22 &    0.886917 \\\\\\\\\\n 33.0 &       91 &       67 &     24 &    0.807574 \\\\\\\\\\n 34.0 &      146 &      131 &     16 &    0.867009 \\\\\\\\\\n 35.0 &      127 &      105 &     22 &    0.898015 \\\\\\\\\\n 36.0 &      129 &      108 &     21 &    0.897098 \\\\\\\\\\n 37.0 &      179 &      166 &     16 &    0.876953 \\\\\\\\\\n 38.0 &      149 &      133 &     17 &    0.897547 \\\\\\\\\\n\\\\bottomrule\\n\\\\end{tabular}\\n'"
            ]
          },
          "metadata": {
            "tags": []
          },
          "execution_count": 38
        }
      ]
    },
    {
      "cell_type": "code",
      "metadata": {
        "colab": {
          "base_uri": "https://localhost:8080/"
        },
        "id": "IRKE5VgGBhYa",
        "outputId": "8ef2e70f-4963-4732-8903-89de212e9814"
      },
      "source": [
        "communities_filtered"
      ],
      "execution_count": null,
      "outputs": [
        {
          "output_type": "execute_result",
          "data": {
            "text/plain": [
              "{9.0: 0.914792387543253,\n",
              " 10.0: 0.802714658642285,\n",
              " 11.0: 0.9006582517813063,\n",
              " 12.0: 0.910247253681597,\n",
              " 13.0: 0.9056136851217584,\n",
              " 14.0: 0.9076485955645393,\n",
              " 15.0: 0.8775328469433988,\n",
              " 16.0: 0.8829719217859238,\n",
              " 17.0: 0.8691420434318263,\n",
              " 18.0: 0.9081489444295142,\n",
              " 19.0: 0.8896563930364159,\n",
              " 20.0: 0.8713195945162896,\n",
              " 21.0: 0.8914049586776859,\n",
              " 22.0: 0.9187997256515776,\n",
              " 23.0: 0.8870701710351756,\n",
              " 26.0: 0.9323958896700921,\n",
              " 27.0: 0.9022129684711482,\n",
              " 28.0: 0.8715518904320989,\n",
              " 29.0: 0.8987348615916956,\n",
              " 30.0: 0.8790354697395973,\n",
              " 31.0: 0.8472822437630203,\n",
              " 32.0: 0.8869165023011175,\n",
              " 33.0: 0.8075739644970414,\n",
              " 34.0: 0.8670089594875346,\n",
              " 35.0: 0.8980147406382941,\n",
              " 36.0: 0.8970981978914194,\n",
              " 37.0: 0.8769529100220783,\n",
              " 38.0: 0.8975466524302943}"
            ]
          },
          "metadata": {
            "tags": []
          },
          "execution_count": 39
        }
      ]
    },
    {
      "cell_type": "code",
      "metadata": {
        "id": "rjyRqxseuusV"
      },
      "source": [
        "entropies = {}"
      ],
      "execution_count": null,
      "outputs": []
    },
    {
      "cell_type": "code",
      "metadata": {
        "colab": {
          "base_uri": "https://localhost:8080/"
        },
        "id": "UlI1UmGtjzG4",
        "outputId": "c9b4ecf7-948e-4e0f-d82f-aa907e624d37"
      },
      "source": [
        "print(os.getcwd())\n",
        "weeks = [w.time.iloc[0].week for w in filtered_users_dfs]\n",
        "weeks1 = {}\n",
        "for i in range(len(filtered_users_dfs)):\n",
        "  week = filtered_users_dfs[i].week.iloc[0]\n",
        "  # print(week)\n",
        "  with open(os.getcwd() + '/predictions_week' + str(week) + '.txt') as in_file:\n",
        "    predictions = []\n",
        "    num0 = 0\n",
        "    num1 = 0\n",
        "    for line in in_file:\n",
        "      l = line.replace('[','').replace(']', '').strip().split(' ')\n",
        "      prob = [float(l[0]), float(l[len(l)-1])]\n",
        "      label = np.argmax(prob)\n",
        "      if label == 0:\n",
        "        num0+= 1\n",
        "      if label== 1:\n",
        "        num1 += 1\n",
        "      predictions.append(label)\n",
        "    # weeks1[week] = (num0, num1)\n",
        "    ent = entropy(predictions)\n",
        "    entropies[week] = ent\n",
        "  in_file.close()\n"
      ],
      "execution_count": null,
      "outputs": [
        {
          "output_type": "stream",
          "text": [
            "/content/gdrive/My Drive/ML Research ListerVosoughi/SMIP/Data\n"
          ],
          "name": "stdout"
        }
      ]
    },
    {
      "cell_type": "code",
      "metadata": {
        "id": "5dveHn9RGdky"
      },
      "source": [
        "modularities = {}"
      ],
      "execution_count": null,
      "outputs": []
    },
    {
      "cell_type": "code",
      "metadata": {
        "colab": {
          "base_uri": "https://localhost:8080/"
        },
        "id": "WYT1MUM37r5Y",
        "outputId": "0620ef96-8bf4-4667-d497-d38b5a6e52d5"
      },
      "source": [
        "print(len(communities_filtered))\n",
        "print(len(filtered_users_dfs))\n",
        "for i in range(len(filtered_users_dfs)):\n",
        "  w = filtered_users_dfs[i]\n",
        "  print(w.week.iloc[0])\n",
        "  mod = communities_filtered[w.week.iloc[0]]\n",
        "  modularities[w.week.iloc[0]] = mod\n",
        "\n"
      ],
      "execution_count": null,
      "outputs": [
        {
          "output_type": "stream",
          "text": [
            "28\n",
            "28\n",
            "9.0\n",
            "12.0\n",
            "10.0\n",
            "13.0\n",
            "14.0\n",
            "11.0\n",
            "15.0\n",
            "16.0\n",
            "17.0\n",
            "18.0\n",
            "20.0\n",
            "19.0\n",
            "22.0\n",
            "21.0\n",
            "23.0\n",
            "26.0\n",
            "30.0\n",
            "29.0\n",
            "27.0\n",
            "28.0\n",
            "31.0\n",
            "34.0\n",
            "33.0\n",
            "35.0\n",
            "32.0\n",
            "38.0\n",
            "37.0\n",
            "36.0\n"
          ],
          "name": "stdout"
        }
      ]
    },
    {
      "cell_type": "code",
      "metadata": {
        "colab": {
          "base_uri": "https://localhost:8080/"
        },
        "id": "4cJ_L1-2OIK_",
        "outputId": "5260a7c5-75fc-4a86-9346-4b7b47a10c85"
      },
      "source": [
        "modularities"
      ],
      "execution_count": null,
      "outputs": [
        {
          "output_type": "execute_result",
          "data": {
            "text/plain": [
              "{9.0: 0.914792387543253,\n",
              " 10.0: 0.802714658642285,\n",
              " 11.0: 0.9006582517813063,\n",
              " 12.0: 0.910247253681597,\n",
              " 13.0: 0.9056136851217584,\n",
              " 14.0: 0.9076485955645393,\n",
              " 15.0: 0.8775328469433988,\n",
              " 16.0: 0.8829719217859238,\n",
              " 17.0: 0.8691420434318263,\n",
              " 18.0: 0.9081489444295142,\n",
              " 19.0: 0.8896563930364159,\n",
              " 20.0: 0.8713195945162896,\n",
              " 21.0: 0.8914049586776859,\n",
              " 22.0: 0.9187997256515776,\n",
              " 23.0: 0.8870701710351756,\n",
              " 26.0: 0.9323958896700921,\n",
              " 27.0: 0.9022129684711482,\n",
              " 28.0: 0.8715518904320989,\n",
              " 29.0: 0.8987348615916956,\n",
              " 30.0: 0.8790354697395973,\n",
              " 31.0: 0.8472822437630203,\n",
              " 32.0: 0.8869165023011175,\n",
              " 33.0: 0.8075739644970414,\n",
              " 34.0: 0.8670089594875346,\n",
              " 35.0: 0.8980147406382941,\n",
              " 36.0: 0.8970981978914194,\n",
              " 37.0: 0.8769529100220783,\n",
              " 38.0: 0.8975466524302943}"
            ]
          },
          "metadata": {
            "tags": []
          },
          "execution_count": 44
        }
      ]
    },
    {
      "cell_type": "code",
      "metadata": {
        "colab": {
          "base_uri": "https://localhost:8080/"
        },
        "id": "Iz8O7Y7uOomG",
        "outputId": "7d91f929-1af7-4c82-c125-9f83632b8508"
      },
      "source": [
        "# normed_mod = [float(i)/max(modularities) for i in modularities]\n",
        "# dict(sorted(modularities.items(), key=lambda item: item[1]))\n",
        "# print(len(sorted_mod))\n",
        "sorted_mod= sorted(modularities.items(), key=lambda item: item[1])\n",
        "group_size = len(sorted_mod) // 3\n",
        "print(group_size)\n",
        "\n",
        "low_mod = sorted_mod[:group_size]\n",
        "med_mod = sorted_mod[group_size:2*group_size]\n",
        "high_mod = sorted_mod[2*group_size:]\n",
        "print(len(low_mod))\n",
        "print(len(med_mod))\n",
        "print(len(high_mod))\n",
        "print(low_mod)\n",
        "\n"
      ],
      "execution_count": null,
      "outputs": [
        {
          "output_type": "stream",
          "text": [
            "9\n",
            "9\n",
            "9\n",
            "10\n",
            "[(10.0, 0.802714658642285), (33.0, 0.8075739644970414), (31.0, 0.8472822437630203), (34.0, 0.8670089594875346), (17.0, 0.8691420434318263), (20.0, 0.8713195945162896), (28.0, 0.8715518904320989), (37.0, 0.8769529100220783), (15.0, 0.8775328469433988)]\n"
          ],
          "name": "stdout"
        }
      ]
    },
    {
      "cell_type": "code",
      "metadata": {
        "colab": {
          "base_uri": "https://localhost:8080/"
        },
        "id": "1x5KnKeqvWzk",
        "outputId": "6ed11ace-daa6-4373-934a-ff26e2adbf6b"
      },
      "source": [
        "sorted_ent= sorted(entropies.items(), key=lambda item: item[1])\n",
        "# sorted_ent\n",
        "\n",
        "low_ent = sorted_ent[:group_size]\n",
        "med_ent = sorted_ent[group_size:2*group_size]\n",
        "high_ent = sorted_ent[2*group_size:]\n",
        "print(len(low_ent))\n",
        "print(len(med_ent))\n",
        "print(len(high_ent))\n",
        "print(low_ent)"
      ],
      "execution_count": null,
      "outputs": [
        {
          "output_type": "stream",
          "text": [
            "9\n",
            "9\n",
            "10\n",
            "[(26.0, 10.196791293755963), (9.0, 11.17616518686905), (21.0, 11.906162784118516), (18.0, 12.21759599596481), (38.0, 12.347771840653685), (23.0, 12.488424286440852), (33.0, 12.51465600623498), (32.0, 12.59385906917783), (27.0, 12.629246687419114)]\n"
          ],
          "name": "stdout"
        }
      ]
    },
    {
      "cell_type": "code",
      "metadata": {
        "id": "v7pHSj1Z3-yF"
      },
      "source": [
        "def transition_probability(df, i, j, k): # Get the probability of transitioning from state i to state k given action j.\n",
        "  # probability = number of times we see state i and action j FOLLOWED BY state k / number of times we see state i and action j\n",
        "\n",
        "  s_i = df[df['state'] == i]\n",
        "  s_i_a_j = s_i[s_i['action'] == j]\n",
        "  c_s_i_a_j = len(s_i_a_j) # number of times we see state i and action j\n",
        "\n",
        "  c_s_i_a_j_s_k = 0 # number of times we see state i and action j FOLLOWED BY state k\n",
        "  for idx, row in s_i_a_j.iterrows():\n",
        "    if (idx+1 in df.index) and df.iloc[idx+1, df.columns.get_loc('state')] == k:\n",
        "      c_s_i_a_j_s_k += 1\n",
        "  return c_s_i_a_j_s_k/c_s_i_a_j\n",
        ""
      ],
      "execution_count": null,
      "outputs": []
    },
    {
      "cell_type": "code",
      "metadata": {
        "id": "0NAo5JkLzNzs"
      },
      "source": [
        "w = []\n",
        "e = []\n",
        "m = []\n",
        "for i in range(len(filtered_users_dfs)):\n",
        "  week = filtered_users_dfs[i].week.iloc[0]\n",
        "  w.append(week)\n",
        "  mod = modularities[week]\n",
        "  mod_i = sorted_mod.index((week, mod))\n",
        "  if mod_i < group_size: # low modularity\n",
        "    m.append(0)\n",
        "  elif mod_i >= group_size and mod_i < 2*group_size:\n",
        "    m.append(1)\n",
        "  else:\n",
        "    m.append(2)\n",
        "\n",
        "  ent = entropies[week]\n",
        "  ent_i = sorted_ent.index((week, ent))\n",
        "  if ent_i < group_size: # low modularity\n",
        "    e.append(0)\n",
        "  elif ent_i >= group_size and ent_i < 2*group_size:\n",
        "    e.append(1)\n",
        "  else:\n",
        "    e.append(2)\n",
        "\n",
        "env = pd.DataFrame()\n",
        "env['week'] = w\n",
        "env['state'] = m\n",
        "env['action'] = e\n",
        "\n",
        "env = env.sort_values(by=['week']).reset_index(drop=True)\n",
        "\n",
        "n_states = 3\n",
        "n_actions = 3"
      ],
      "execution_count": null,
      "outputs": []
    },
    {
      "cell_type": "markdown",
      "metadata": {
        "id": "oV3YMQHuGchu"
      },
      "source": [
        "## **MAX ENT IRL**"
      ]
    },
    {
      "cell_type": "code",
      "metadata": {
        "id": "pWLRDjt_Sexv"
      },
      "source": [
        "def reward(state_int, n_states=3):\n",
        "  if state_int == n_states-1:\n",
        "    return 0\n",
        "  else: return 1"
      ],
      "execution_count": null,
      "outputs": []
    },
    {
      "cell_type": "code",
      "metadata": {
        "id": "nWGa7pdkDZji"
      },
      "source": [
        "def generate_trajectories(n_trajectories, env):\n",
        "  t_len = len(env) // n_trajectories\n",
        "  trajectories = []\n",
        "  t = []\n",
        "  # print(t_len)\n",
        "  for idx, row in env.iterrows():\n",
        "    if idx % t_len == 0 and idx != 0:\n",
        "      trajectories.append(t)\n",
        "      t = []\n",
        "      state = int(row.state)\n",
        "      action = int(row.action)\n",
        "      r_ = reward(state)\n",
        "      t.append((state, action, r_))\n",
        "    else:\n",
        "      state = int(row.state)\n",
        "      action = int(row.action)\n",
        "      r_ = reward(state)\n",
        "      t.append((state, action, r_))\n",
        "  if len(t) == t_len:\n",
        "    trajectories.append(t)\n",
        "  return trajectories, t_len"
      ],
      "execution_count": null,
      "outputs": []
    },
    {
      "cell_type": "code",
      "metadata": {
        "id": "E6yguR-XTubk"
      },
      "source": [
        "os.chdir('/content/gdrive/My Drive/')\n",
        "covid_info_file = 'national-history.csv'\n",
        "covid_df = pd.read_csv(covid_info_file, header=0, low_memory=False)"
      ],
      "execution_count": null,
      "outputs": []
    },
    {
      "cell_type": "code",
      "metadata": {
        "colab": {
          "base_uri": "https://localhost:8080/",
          "height": 301
        },
        "id": "ITNvpv12Ut4V",
        "outputId": "5f7652e6-b26c-4d97-c006-843a66d5a1ba"
      },
      "source": [
        "covid_df.head()"
      ],
      "execution_count": null,
      "outputs": [
        {
          "output_type": "execute_result",
          "data": {
            "text/html": [
              "<div>\n",
              "<style scoped>\n",
              "    .dataframe tbody tr th:only-of-type {\n",
              "        vertical-align: middle;\n",
              "    }\n",
              "\n",
              "    .dataframe tbody tr th {\n",
              "        vertical-align: top;\n",
              "    }\n",
              "\n",
              "    .dataframe thead th {\n",
              "        text-align: right;\n",
              "    }\n",
              "</style>\n",
              "<table border=\"1\" class=\"dataframe\">\n",
              "  <thead>\n",
              "    <tr style=\"text-align: right;\">\n",
              "      <th></th>\n",
              "      <th>date</th>\n",
              "      <th>death</th>\n",
              "      <th>deathIncrease</th>\n",
              "      <th>inIcuCumulative</th>\n",
              "      <th>inIcuCurrently</th>\n",
              "      <th>hospitalizedIncrease</th>\n",
              "      <th>hospitalizedCurrently</th>\n",
              "      <th>hospitalizedCumulative</th>\n",
              "      <th>negative</th>\n",
              "      <th>negativeIncrease</th>\n",
              "      <th>onVentilatorCumulative</th>\n",
              "      <th>onVentilatorCurrently</th>\n",
              "      <th>positive</th>\n",
              "      <th>positiveIncrease</th>\n",
              "      <th>states</th>\n",
              "      <th>totalTestResults</th>\n",
              "      <th>totalTestResultsIncrease</th>\n",
              "    </tr>\n",
              "  </thead>\n",
              "  <tbody>\n",
              "    <tr>\n",
              "      <th>0</th>\n",
              "      <td>2021-03-07</td>\n",
              "      <td>515151.0</td>\n",
              "      <td>842</td>\n",
              "      <td>45475.0</td>\n",
              "      <td>8134.0</td>\n",
              "      <td>726</td>\n",
              "      <td>40199.0</td>\n",
              "      <td>776361.0</td>\n",
              "      <td>74582825.0</td>\n",
              "      <td>131835</td>\n",
              "      <td>4281.0</td>\n",
              "      <td>2802.0</td>\n",
              "      <td>28756489.0</td>\n",
              "      <td>41835</td>\n",
              "      <td>56</td>\n",
              "      <td>363825123</td>\n",
              "      <td>1170059</td>\n",
              "    </tr>\n",
              "    <tr>\n",
              "      <th>1</th>\n",
              "      <td>2021-03-06</td>\n",
              "      <td>514309.0</td>\n",
              "      <td>1680</td>\n",
              "      <td>45453.0</td>\n",
              "      <td>8409.0</td>\n",
              "      <td>503</td>\n",
              "      <td>41401.0</td>\n",
              "      <td>775635.0</td>\n",
              "      <td>74450990.0</td>\n",
              "      <td>143835</td>\n",
              "      <td>4280.0</td>\n",
              "      <td>2811.0</td>\n",
              "      <td>28714654.0</td>\n",
              "      <td>60015</td>\n",
              "      <td>56</td>\n",
              "      <td>362655064</td>\n",
              "      <td>1430992</td>\n",
              "    </tr>\n",
              "    <tr>\n",
              "      <th>2</th>\n",
              "      <td>2021-03-05</td>\n",
              "      <td>512629.0</td>\n",
              "      <td>2221</td>\n",
              "      <td>45373.0</td>\n",
              "      <td>8634.0</td>\n",
              "      <td>2781</td>\n",
              "      <td>42541.0</td>\n",
              "      <td>775132.0</td>\n",
              "      <td>74307155.0</td>\n",
              "      <td>271917</td>\n",
              "      <td>4275.0</td>\n",
              "      <td>2889.0</td>\n",
              "      <td>28654639.0</td>\n",
              "      <td>68787</td>\n",
              "      <td>56</td>\n",
              "      <td>361224072</td>\n",
              "      <td>1744417</td>\n",
              "    </tr>\n",
              "    <tr>\n",
              "      <th>3</th>\n",
              "      <td>2021-03-04</td>\n",
              "      <td>510408.0</td>\n",
              "      <td>1743</td>\n",
              "      <td>45293.0</td>\n",
              "      <td>8970.0</td>\n",
              "      <td>1530</td>\n",
              "      <td>44172.0</td>\n",
              "      <td>772351.0</td>\n",
              "      <td>74035238.0</td>\n",
              "      <td>177957</td>\n",
              "      <td>4267.0</td>\n",
              "      <td>2973.0</td>\n",
              "      <td>28585852.0</td>\n",
              "      <td>65487</td>\n",
              "      <td>56</td>\n",
              "      <td>359479655</td>\n",
              "      <td>1590984</td>\n",
              "    </tr>\n",
              "    <tr>\n",
              "      <th>4</th>\n",
              "      <td>2021-03-03</td>\n",
              "      <td>508665.0</td>\n",
              "      <td>2449</td>\n",
              "      <td>45214.0</td>\n",
              "      <td>9359.0</td>\n",
              "      <td>2172</td>\n",
              "      <td>45462.0</td>\n",
              "      <td>770821.0</td>\n",
              "      <td>73857281.0</td>\n",
              "      <td>267001</td>\n",
              "      <td>4260.0</td>\n",
              "      <td>3094.0</td>\n",
              "      <td>28520365.0</td>\n",
              "      <td>66836</td>\n",
              "      <td>56</td>\n",
              "      <td>357888671</td>\n",
              "      <td>1406795</td>\n",
              "    </tr>\n",
              "  </tbody>\n",
              "</table>\n",
              "</div>"
            ],
            "text/plain": [
              "         date     death  ...  totalTestResults  totalTestResultsIncrease\n",
              "0  2021-03-07  515151.0  ...         363825123                   1170059\n",
              "1  2021-03-06  514309.0  ...         362655064                   1430992\n",
              "2  2021-03-05  512629.0  ...         361224072                   1744417\n",
              "3  2021-03-04  510408.0  ...         359479655                   1590984\n",
              "4  2021-03-03  508665.0  ...         357888671                   1406795\n",
              "\n",
              "[5 rows x 17 columns]"
            ]
          },
          "metadata": {
            "tags": []
          },
          "execution_count": 53
        }
      ]
    },
    {
      "cell_type": "code",
      "metadata": {
        "colab": {
          "base_uri": "https://localhost:8080/"
        },
        "id": "l60xdMmKWBlJ",
        "outputId": "e20fdb57-18b4-412e-ddb3-5e15c2395d89"
      },
      "source": [
        "covid_df['date'] = pd.to_datetime(covid_df['date'], errors='coerce')\n",
        "print(len(covid_df))\n",
        "weeks = []\n",
        "years = []\n",
        "for idx, row in covid_df.iterrows():\n",
        "  w = row['date'].isocalendar()[1]\n",
        "  y = row['date'].isocalendar()[0]\n",
        "  weeks.append(w)\n",
        "  years.append(y)\n",
        "covid_df['week'] = weeks\n",
        "covid_df['year'] = years"
      ],
      "execution_count": null,
      "outputs": [
        {
          "output_type": "stream",
          "text": [
            "420\n"
          ],
          "name": "stdout"
        }
      ]
    },
    {
      "cell_type": "code",
      "metadata": {
        "colab": {
          "base_uri": "https://localhost:8080/",
          "height": 301
        },
        "id": "nX25SFGeYJvW",
        "outputId": "ddceb729-fc6e-4ab1-948b-4ee4bc26df96"
      },
      "source": [
        "covid_df.head()"
      ],
      "execution_count": null,
      "outputs": [
        {
          "output_type": "execute_result",
          "data": {
            "text/html": [
              "<div>\n",
              "<style scoped>\n",
              "    .dataframe tbody tr th:only-of-type {\n",
              "        vertical-align: middle;\n",
              "    }\n",
              "\n",
              "    .dataframe tbody tr th {\n",
              "        vertical-align: top;\n",
              "    }\n",
              "\n",
              "    .dataframe thead th {\n",
              "        text-align: right;\n",
              "    }\n",
              "</style>\n",
              "<table border=\"1\" class=\"dataframe\">\n",
              "  <thead>\n",
              "    <tr style=\"text-align: right;\">\n",
              "      <th></th>\n",
              "      <th>date</th>\n",
              "      <th>death</th>\n",
              "      <th>deathIncrease</th>\n",
              "      <th>inIcuCumulative</th>\n",
              "      <th>inIcuCurrently</th>\n",
              "      <th>hospitalizedIncrease</th>\n",
              "      <th>hospitalizedCurrently</th>\n",
              "      <th>hospitalizedCumulative</th>\n",
              "      <th>negative</th>\n",
              "      <th>negativeIncrease</th>\n",
              "      <th>onVentilatorCumulative</th>\n",
              "      <th>onVentilatorCurrently</th>\n",
              "      <th>positive</th>\n",
              "      <th>positiveIncrease</th>\n",
              "      <th>states</th>\n",
              "      <th>totalTestResults</th>\n",
              "      <th>totalTestResultsIncrease</th>\n",
              "      <th>week</th>\n",
              "      <th>year</th>\n",
              "    </tr>\n",
              "  </thead>\n",
              "  <tbody>\n",
              "    <tr>\n",
              "      <th>0</th>\n",
              "      <td>2021-03-07</td>\n",
              "      <td>515151.0</td>\n",
              "      <td>842</td>\n",
              "      <td>45475.0</td>\n",
              "      <td>8134.0</td>\n",
              "      <td>726</td>\n",
              "      <td>40199.0</td>\n",
              "      <td>776361.0</td>\n",
              "      <td>74582825.0</td>\n",
              "      <td>131835</td>\n",
              "      <td>4281.0</td>\n",
              "      <td>2802.0</td>\n",
              "      <td>28756489.0</td>\n",
              "      <td>41835</td>\n",
              "      <td>56</td>\n",
              "      <td>363825123</td>\n",
              "      <td>1170059</td>\n",
              "      <td>9</td>\n",
              "      <td>2021</td>\n",
              "    </tr>\n",
              "    <tr>\n",
              "      <th>1</th>\n",
              "      <td>2021-03-06</td>\n",
              "      <td>514309.0</td>\n",
              "      <td>1680</td>\n",
              "      <td>45453.0</td>\n",
              "      <td>8409.0</td>\n",
              "      <td>503</td>\n",
              "      <td>41401.0</td>\n",
              "      <td>775635.0</td>\n",
              "      <td>74450990.0</td>\n",
              "      <td>143835</td>\n",
              "      <td>4280.0</td>\n",
              "      <td>2811.0</td>\n",
              "      <td>28714654.0</td>\n",
              "      <td>60015</td>\n",
              "      <td>56</td>\n",
              "      <td>362655064</td>\n",
              "      <td>1430992</td>\n",
              "      <td>9</td>\n",
              "      <td>2021</td>\n",
              "    </tr>\n",
              "    <tr>\n",
              "      <th>2</th>\n",
              "      <td>2021-03-05</td>\n",
              "      <td>512629.0</td>\n",
              "      <td>2221</td>\n",
              "      <td>45373.0</td>\n",
              "      <td>8634.0</td>\n",
              "      <td>2781</td>\n",
              "      <td>42541.0</td>\n",
              "      <td>775132.0</td>\n",
              "      <td>74307155.0</td>\n",
              "      <td>271917</td>\n",
              "      <td>4275.0</td>\n",
              "      <td>2889.0</td>\n",
              "      <td>28654639.0</td>\n",
              "      <td>68787</td>\n",
              "      <td>56</td>\n",
              "      <td>361224072</td>\n",
              "      <td>1744417</td>\n",
              "      <td>9</td>\n",
              "      <td>2021</td>\n",
              "    </tr>\n",
              "    <tr>\n",
              "      <th>3</th>\n",
              "      <td>2021-03-04</td>\n",
              "      <td>510408.0</td>\n",
              "      <td>1743</td>\n",
              "      <td>45293.0</td>\n",
              "      <td>8970.0</td>\n",
              "      <td>1530</td>\n",
              "      <td>44172.0</td>\n",
              "      <td>772351.0</td>\n",
              "      <td>74035238.0</td>\n",
              "      <td>177957</td>\n",
              "      <td>4267.0</td>\n",
              "      <td>2973.0</td>\n",
              "      <td>28585852.0</td>\n",
              "      <td>65487</td>\n",
              "      <td>56</td>\n",
              "      <td>359479655</td>\n",
              "      <td>1590984</td>\n",
              "      <td>9</td>\n",
              "      <td>2021</td>\n",
              "    </tr>\n",
              "    <tr>\n",
              "      <th>4</th>\n",
              "      <td>2021-03-03</td>\n",
              "      <td>508665.0</td>\n",
              "      <td>2449</td>\n",
              "      <td>45214.0</td>\n",
              "      <td>9359.0</td>\n",
              "      <td>2172</td>\n",
              "      <td>45462.0</td>\n",
              "      <td>770821.0</td>\n",
              "      <td>73857281.0</td>\n",
              "      <td>267001</td>\n",
              "      <td>4260.0</td>\n",
              "      <td>3094.0</td>\n",
              "      <td>28520365.0</td>\n",
              "      <td>66836</td>\n",
              "      <td>56</td>\n",
              "      <td>357888671</td>\n",
              "      <td>1406795</td>\n",
              "      <td>9</td>\n",
              "      <td>2021</td>\n",
              "    </tr>\n",
              "  </tbody>\n",
              "</table>\n",
              "</div>"
            ],
            "text/plain": [
              "        date     death  deathIncrease  ...  totalTestResultsIncrease  week  year\n",
              "0 2021-03-07  515151.0            842  ...                   1170059     9  2021\n",
              "1 2021-03-06  514309.0           1680  ...                   1430992     9  2021\n",
              "2 2021-03-05  512629.0           2221  ...                   1744417     9  2021\n",
              "3 2021-03-04  510408.0           1743  ...                   1590984     9  2021\n",
              "4 2021-03-03  508665.0           2449  ...                   1406795     9  2021\n",
              "\n",
              "[5 rows x 19 columns]"
            ]
          },
          "metadata": {
            "tags": []
          },
          "execution_count": 55
        }
      ]
    },
    {
      "cell_type": "code",
      "metadata": {
        "colab": {
          "base_uri": "https://localhost:8080/"
        },
        "id": "pbTDGR4bYPVw",
        "outputId": "3ae3332c-ce01-416d-9616-e2d55b32a00d"
      },
      "source": [
        "covid_df = covid_df[covid_df.year == 2020]\n",
        "weekly_covid_dfs = create_weekly_dfs(covid_df)"
      ],
      "execution_count": null,
      "outputs": [
        {
          "output_type": "stream",
          "text": [
            "[53 52 51 50 49 48 47 46 45 44 43 42 41 40 39 38 37 36 35 34 33 32 31 30\n",
            " 29 28 27 26 25 24 23 22 21 20 19 18 17 16 15 14 13 12 11 10  9  8  7  6\n",
            "  5  4  3]\n"
          ],
          "name": "stdout"
        }
      ]
    },
    {
      "cell_type": "code",
      "metadata": {
        "id": "BeeWz85KY_aZ"
      },
      "source": [
        "nd = []\n",
        "nh = []\n",
        "nc = []\n",
        "d = []\n",
        "nccs = []\n",
        "dlcc = []\n",
        "\n",
        "for g in filtered_graphs:\n",
        "  week = int(filtered_users_dfs_weeks[g])\n",
        "  for j in weekly_covid_dfs:\n",
        "    if j.iloc[0].week == week:\n",
        "      this_week_cov = j\n",
        "      break\n",
        "  nd.append(this_week_cov.deathIncrease.sum()) # number of new covid deaths in a week\n",
        "  nh.append(this_week_cov.hospitalizedIncrease.sum())\n",
        "  nc.append(this_week_cov.positiveIncrease.sum())\n",
        "  d.append(nx.density(g)) # density of retweet network for a week\n",
        "  nccs.append(nx.number_connected_components(g))\n",
        "  dlcc.append(nx.density(g.subgraph(max(nx.connected_components(g), key=len))))"
      ],
      "execution_count": null,
      "outputs": []
    },
    {
      "cell_type": "code",
      "metadata": {
        "id": "7MscfO7Wdx4F"
      },
      "source": [
        "env['newDeaths'] = nd\n",
        "env['newHospitalizations'] = nh\n",
        "env['newCases'] = nc\n",
        "env['graphDensity'] = d\n",
        "env['numCCs'] = nccs\n",
        "env['densityLargestCC'] = dlcc"
      ],
      "execution_count": null,
      "outputs": []
    },
    {
      "cell_type": "code",
      "metadata": {
        "colab": {
          "base_uri": "https://localhost:8080/",
          "height": 197
        },
        "id": "fnXxkRdweVAR",
        "outputId": "b91a1e5c-c819-4ea2-ecd1-93fd0ce54fd1"
      },
      "source": [
        "env.head()"
      ],
      "execution_count": null,
      "outputs": [
        {
          "output_type": "execute_result",
          "data": {
            "text/html": [
              "<div>\n",
              "<style scoped>\n",
              "    .dataframe tbody tr th:only-of-type {\n",
              "        vertical-align: middle;\n",
              "    }\n",
              "\n",
              "    .dataframe tbody tr th {\n",
              "        vertical-align: top;\n",
              "    }\n",
              "\n",
              "    .dataframe thead th {\n",
              "        text-align: right;\n",
              "    }\n",
              "</style>\n",
              "<table border=\"1\" class=\"dataframe\">\n",
              "  <thead>\n",
              "    <tr style=\"text-align: right;\">\n",
              "      <th></th>\n",
              "      <th>week</th>\n",
              "      <th>state</th>\n",
              "      <th>action</th>\n",
              "      <th>newDeaths</th>\n",
              "      <th>newHospitalizations</th>\n",
              "      <th>newCases</th>\n",
              "      <th>graphDensity</th>\n",
              "      <th>numCCs</th>\n",
              "      <th>densityLargestCC</th>\n",
              "    </tr>\n",
              "  </thead>\n",
              "  <tbody>\n",
              "    <tr>\n",
              "      <th>0</th>\n",
              "      <td>9.0</td>\n",
              "      <td>2</td>\n",
              "      <td>0</td>\n",
              "      <td>8</td>\n",
              "      <td>0</td>\n",
              "      <td>34</td>\n",
              "      <td>0.016840</td>\n",
              "      <td>24</td>\n",
              "      <td>0.142857</td>\n",
              "    </tr>\n",
              "    <tr>\n",
              "      <th>1</th>\n",
              "      <td>10.0</td>\n",
              "      <td>0</td>\n",
              "      <td>2</td>\n",
              "      <td>400</td>\n",
              "      <td>590</td>\n",
              "      <td>34070</td>\n",
              "      <td>0.010528</td>\n",
              "      <td>24</td>\n",
              "      <td>0.090909</td>\n",
              "    </tr>\n",
              "    <tr>\n",
              "      <th>2</th>\n",
              "      <td>11.0</td>\n",
              "      <td>2</td>\n",
              "      <td>1</td>\n",
              "      <td>23</td>\n",
              "      <td>6</td>\n",
              "      <td>715</td>\n",
              "      <td>0.007546</td>\n",
              "      <td>10</td>\n",
              "      <td>0.009655</td>\n",
              "    </tr>\n",
              "    <tr>\n",
              "      <th>3</th>\n",
              "      <td>12.0</td>\n",
              "      <td>2</td>\n",
              "      <td>2</td>\n",
              "      <td>2358</td>\n",
              "      <td>3997</td>\n",
              "      <td>111018</td>\n",
              "      <td>0.009557</td>\n",
              "      <td>20</td>\n",
              "      <td>0.052632</td>\n",
              "    </tr>\n",
              "    <tr>\n",
              "      <th>4</th>\n",
              "      <td>13.0</td>\n",
              "      <td>2</td>\n",
              "      <td>2</td>\n",
              "      <td>7780</td>\n",
              "      <td>8750</td>\n",
              "      <td>191278</td>\n",
              "      <td>0.009456</td>\n",
              "      <td>21</td>\n",
              "      <td>0.045455</td>\n",
              "    </tr>\n",
              "  </tbody>\n",
              "</table>\n",
              "</div>"
            ],
            "text/plain": [
              "   week  state  action  ...  graphDensity  numCCs  densityLargestCC\n",
              "0   9.0      2       0  ...      0.016840      24          0.142857\n",
              "1  10.0      0       2  ...      0.010528      24          0.090909\n",
              "2  11.0      2       1  ...      0.007546      10          0.009655\n",
              "3  12.0      2       2  ...      0.009557      20          0.052632\n",
              "4  13.0      2       2  ...      0.009456      21          0.045455\n",
              "\n",
              "[5 rows x 9 columns]"
            ]
          },
          "metadata": {
            "tags": []
          },
          "execution_count": 59
        }
      ]
    },
    {
      "cell_type": "code",
      "metadata": {
        "colab": {
          "base_uri": "https://localhost:8080/"
        },
        "id": "5iETcSxKezmg",
        "outputId": "be0f9051-3b52-4fa1-de58-795510e6d8ca"
      },
      "source": [
        "features = []\n",
        "for i in range(n_states): # for each state (low modularity, medium modularity, high modularity)\n",
        "  newDeaths = env[env['state']==i]['newDeaths'].sum()/len(env[env['state']==i]) # take the average of new deaths over weeks that are in this state\n",
        "  newHospitalizations = env[env['state']==i]['newHospitalizations'].sum()/len(env[env['state']==i])\n",
        "  newCases = env[env['state']==i]['newCases'].sum()/len(env[env['state']==i])\n",
        "  graphDensity = env[env['state']==i]['graphDensity'].sum()/len(env[env['state']==i])\n",
        "  numCCs = env[env['state']==i]['numCCs'].sum()/len(env[env['state']==i])\n",
        "  densityLargestCC = env[env['state']==i]['densityLargestCC'].sum()/len(env[env['state']==i])\n",
        "  features.append([newDeaths, newHospitalizations, newCases, graphDensity, numCCs, densityLargestCC])\n",
        "feature_matrix = np.array(features)\n",
        "feature_matrix"
      ],
      "execution_count": null,
      "outputs": [
        {
          "output_type": "execute_result",
          "data": {
            "text/plain": [
              "array([[7.92100000e+03, 1.06138889e+04, 2.68005667e+05, 1.04182934e-02,\n",
              "        1.78888889e+01, 5.24911862e-02],\n",
              "       [7.40800000e+03, 1.26130000e+04, 2.52706444e+05, 1.14978376e-02,\n",
              "        1.82222222e+01, 5.28663910e-02],\n",
              "       [4.45320000e+03, 7.43650000e+03, 1.72961100e+05, 1.12998460e-02,\n",
              "        1.95000000e+01, 7.83539703e-02]])"
            ]
          },
          "metadata": {
            "tags": []
          },
          "execution_count": 60
        }
      ]
    },
    {
      "cell_type": "code",
      "metadata": {
        "colab": {
          "base_uri": "https://localhost:8080/"
        },
        "id": "s4-PTrLtgFxi",
        "outputId": "a63cf459-2496-4e0e-806c-c47e832d81e1"
      },
      "source": [
        "! git clone https://github.com/MatthewJA/Inverse-Reinforcement-Learning.git"
      ],
      "execution_count": null,
      "outputs": [
        {
          "output_type": "stream",
          "text": [
            "fatal: destination path 'Inverse-Reinforcement-Learning' already exists and is not an empty directory.\n"
          ],
          "name": "stdout"
        }
      ]
    },
    {
      "cell_type": "code",
      "metadata": {
        "colab": {
          "base_uri": "https://localhost:8080/"
        },
        "id": "cxfL6J14gH7Q",
        "outputId": "25e56776-8b7b-4c0b-c5f7-d47a3c8ad0e4"
      },
      "source": [
        "%cd Inverse-Reinforcement-Learning/irl\n",
        "! ls"
      ],
      "execution_count": null,
      "outputs": [
        {
          "output_type": "stream",
          "text": [
            "/content/gdrive/My Drive/Inverse-Reinforcement-Learning/irl\n",
            "deep_maxent.py\t  __init__.py\t maxent.py  __pycache__\n",
            "feat_weights.png  linear_irl.py  mdp\t    value_iteration.py\n"
          ],
          "name": "stdout"
        }
      ]
    },
    {
      "cell_type": "code",
      "metadata": {
        "id": "ws3hxxqdgTrp"
      },
      "source": [
        "import value_iteration\n",
        "from itertools import product\n",
        "\n",
        "import numpy as np\n",
        "import numpy.random as rn\n",
        "\n",
        "def irl(feature_matrix, n_actions, discount, transition_probability,\n",
        "        trajectories, epochs, learning_rate):\n",
        "    \"\"\"\n",
        "    Find the reward function for the given trajectories.\n",
        "    feature_matrix: Matrix with the nth row representing the nth state. NumPy\n",
        "        array with shape (N, D) where N is the number of states and D is the\n",
        "        dimensionality of the state.\n",
        "    n_actions: Number of actions A. int.\n",
        "    discount: Discount factor of the MDP. float.\n",
        "    transition_probability: NumPy array mapping (state_i, action, state_k) to\n",
        "        the probability of transitioning from state_i to state_k under action.\n",
        "        Shape (N, A, N).\n",
        "    trajectories: 3D array of state/action pairs. States are ints, actions\n",
        "        are ints. NumPy array with shape (T, L, 2) where T is the number of\n",
        "        trajectories and L is the trajectory length.\n",
        "    epochs: Number of gradient descent steps. int.\n",
        "    learning_rate: Gradient descent learning rate. float.\n",
        "    -> Reward vector with shape (N,).\n",
        "    \"\"\"\n",
        "\n",
        "    n_states, d_states = feature_matrix.shape\n",
        "\n",
        "    # Initialise weights.\n",
        "    alpha = rn.uniform(size=(d_states,))\n",
        "\n",
        "    # Calculate the feature expectations \\tilde{phi}.\n",
        "    feature_expectations = find_feature_expectations(feature_matrix,\n",
        "                                                     trajectories)\n",
        "\n",
        "    # Gradient descent on alpha.\n",
        "    for i in range(epochs):\n",
        "        # print(\"i: {}\".format(i))\n",
        "        r = feature_matrix.dot(alpha)\n",
        "        expected_svf = find_expected_svf(n_states, r, n_actions, discount,\n",
        "                                         transition_probability, trajectories)\n",
        "        grad = feature_expectations - feature_matrix.T.dot(expected_svf)\n",
        "\n",
        "        alpha += learning_rate * grad\n",
        "\n",
        "    return alpha, feature_matrix.dot(alpha).reshape((n_states,))\n",
        "\n",
        "def find_svf(n_states, trajectories):\n",
        "    \"\"\"\n",
        "    Find the state visitation frequency from trajectories.\n",
        "    n_states: Number of states. int.\n",
        "    trajectories: 3D array of state/action pairs. States are ints, actions\n",
        "        are ints. NumPy array with shape (T, L, 2) where T is the number of\n",
        "        trajectories and L is the trajectory length.\n",
        "    -> State visitation frequencies vector with shape (N,).\n",
        "    \"\"\"\n",
        "\n",
        "    svf = np.zeros(n_states)\n",
        "\n",
        "    for trajectory in trajectories:\n",
        "        for state, _, _ in trajectory:\n",
        "            svf[state] += 1\n",
        "\n",
        "    svf /= trajectories.shape[0]\n",
        "\n",
        "    return svf\n",
        "\n",
        "def find_feature_expectations(feature_matrix, trajectories):\n",
        "    \"\"\"\n",
        "    Find the feature expectations for the given trajectories. This is the\n",
        "    average path feature vector.\n",
        "    feature_matrix: Matrix with the nth row representing the nth state. NumPy\n",
        "        array with shape (N, D) where N is the number of states and D is the\n",
        "        dimensionality of the state.\n",
        "    trajectories: 3D array of state/action pairs. States are ints, actions\n",
        "        are ints. NumPy array with shape (T, L, 2) where T is the number of\n",
        "        trajectories and L is the trajectory length.\n",
        "    -> Feature expectations vector with shape (D,).\n",
        "    \"\"\"\n",
        "\n",
        "    feature_expectations = np.zeros(feature_matrix.shape[1])\n",
        "\n",
        "    for trajectory in trajectories:\n",
        "        for state, _, _ in trajectory:\n",
        "            feature_expectations += feature_matrix[state]\n",
        "\n",
        "    feature_expectations /= trajectories.shape[0]\n",
        "\n",
        "    return feature_expectations\n",
        "\n",
        "def find_expected_svf(n_states, r, n_actions, discount,\n",
        "                      transition_probability, trajectories):\n",
        "    \"\"\"\n",
        "    Find the expected state visitation frequencies using algorithm 1 from\n",
        "    Ziebart et al. 2008.\n",
        "    n_states: Number of states N. int.\n",
        "    alpha: Reward. NumPy array with shape (N,).\n",
        "    n_actions: Number of actions A. int.\n",
        "    discount: Discount factor of the MDP. float.\n",
        "    transition_probability: NumPy array mapping (state_i, action, state_k) to\n",
        "        the probability of transitioning from state_i to state_k under action.\n",
        "        Shape (N, A, N).\n",
        "    trajectories: 3D array of state/action pairs. States are ints, actions\n",
        "        are ints. NumPy array with shape (T, L, 2) where T is the number of\n",
        "        trajectories and L is the trajectory length.\n",
        "    -> Expected state visitation frequencies vector with shape (N,).\n",
        "    \"\"\"\n",
        "\n",
        "    n_trajectories = trajectories.shape[0]\n",
        "    trajectory_length = trajectories.shape[1]\n",
        "\n",
        "    # policy = find_policy(n_states, r, n_actions, discount,\n",
        "    #                                 transition_probability)\n",
        "    policy = value_iteration.find_policy(n_states, n_actions,\n",
        "                                         transition_probability, r, discount)\n",
        "\n",
        "    start_state_count = np.zeros(n_states)\n",
        "    for trajectory in trajectories:\n",
        "        start_state_count[trajectory[0, 0]] += 1\n",
        "    p_start_state = start_state_count/n_trajectories\n",
        "\n",
        "    expected_svf = np.tile(p_start_state, (trajectory_length, 1)).T\n",
        "    for t in range(1, trajectory_length):\n",
        "        expected_svf[:, t] = 0\n",
        "        for i, j, k in product(range(n_states), range(n_actions), range(n_states)):\n",
        "            expected_svf[k, t] += (expected_svf[i, t-1] *\n",
        "                                  policy[i, j] * # Stochastic policy\n",
        "                                  transition_probability[i, j, k])\n",
        "\n",
        "    return expected_svf.sum(axis=1)\n",
        "\n",
        "def softmax(x1, x2):\n",
        "    \"\"\"\n",
        "    Soft-maximum calculation, from algorithm 9.2 in Ziebart's PhD thesis.\n",
        "    x1: float.\n",
        "    x2: float.\n",
        "    -> softmax(x1, x2)\n",
        "    \"\"\"\n",
        "\n",
        "    max_x = max(x1, x2)\n",
        "    min_x = min(x1, x2)\n",
        "    return max_x + np.log(1 + np.exp(min_x - max_x))\n",
        "\n",
        "def find_policy(n_states, r, n_actions, discount,\n",
        "                           transition_probability):\n",
        "    \"\"\"\n",
        "    Find a policy with linear value iteration. Based on the code accompanying\n",
        "    the Levine et al. GPIRL paper and on Ziebart's PhD thesis (algorithm 9.1).\n",
        "    n_states: Number of states N. int.\n",
        "    r: Reward. NumPy array with shape (N,).\n",
        "    n_actions: Number of actions A. int.\n",
        "    discount: Discount factor of the MDP. float.\n",
        "    transition_probability: NumPy array mapping (state_i, action, state_k) to\n",
        "        the probability of transitioning from state_i to state_k under action.\n",
        "        Shape (N, A, N).\n",
        "    -> NumPy array of states and the probability of taking each action in that\n",
        "        state, with shape (N, A).\n",
        "    \"\"\"\n",
        "\n",
        "    # V = value_iteration.value(n_states, transition_probability, r, discount)\n",
        "\n",
        "    # NumPy's dot really dislikes using inf, so I'm making everything finite\n",
        "    # using nan_to_num.\n",
        "    V = np.nan_to_num(np.ones((n_states, 1)) * float(\"-inf\"))\n",
        "\n",
        "    diff = np.ones((n_states,))\n",
        "    while (diff > 1e-4).all():  # Iterate until convergence.\n",
        "        new_V = r.copy()\n",
        "        for j in range(n_actions):\n",
        "            for i in range(n_states):\n",
        "                new_V[i] = softmax(new_V[i], r[i] + discount*\n",
        "                    np.sum(transition_probability[i, j, k] * V[k]\n",
        "                           for k in range(n_states)))\n",
        "\n",
        "        # # This seems to diverge, so we z-score it (engineering hack).\n",
        "        new_V = (new_V - new_V.mean())/new_V.std()\n",
        "\n",
        "        diff = abs(V - new_V)\n",
        "        V = new_V\n",
        "\n",
        "    # We really want Q, not V, so grab that using equation 9.2 from the thesis.\n",
        "    Q = np.zeros((n_states, n_actions))\n",
        "    for i in range(n_states):\n",
        "        for j in range(n_actions):\n",
        "            p = np.array([transition_probability[i, j, k]\n",
        "                          for k in range(n_states)])\n",
        "            Q[i, j] = p.dot(r + discount*V)\n",
        "\n",
        "    # Softmax by row to interpret these values as probabilities.\n",
        "    Q -= Q.max(axis=1).reshape((n_states, 1))  # For numerical stability.\n",
        "    Q = np.exp(Q)/np.exp(Q).sum(axis=1).reshape((n_states, 1))\n",
        "    return Q\n",
        "\n",
        "def expected_value_difference(n_states, n_actions, transition_probability,\n",
        "    reward, discount, p_start_state, optimal_value, true_reward):\n",
        "    \"\"\"\n",
        "    Calculate the expected value difference, which is a proxy to how good a\n",
        "    recovered reward function is.\n",
        "    n_states: Number of states. int.\n",
        "    n_actions: Number of actions. int.\n",
        "    transition_probability: NumPy array mapping (state_i, action, state_k) to\n",
        "        the probability of transitioning from state_i to state_k under action.\n",
        "        Shape (N, A, N).\n",
        "    reward: Reward vector mapping state int to reward. Shape (N,).\n",
        "    discount: Discount factor. float.\n",
        "    p_start_state: Probability vector with the ith component as the probability\n",
        "        that the ith state is the start state. Shape (N,).\n",
        "    optimal_value: Value vector for the ground reward with optimal policy.\n",
        "        The ith component is the value of the ith state. Shape (N,).\n",
        "    true_reward: True reward vector. Shape (N,).\n",
        "    -> Expected value difference. float.\n",
        "    \"\"\"\n",
        "\n",
        "    policy = value_iteration.find_policy(n_states, n_actions,\n",
        "        transition_probability, reward, discount)\n",
        "    value = value_iteration.value(policy.argmax(axis=1), n_states,\n",
        "        transition_probability, true_reward, discount)\n",
        "\n",
        "    evd = optimal_value.dot(p_start_state) - value.dot(p_start_state)\n",
        "    return evd"
      ],
      "execution_count": null,
      "outputs": []
    },
    {
      "cell_type": "code",
      "metadata": {
        "colab": {
          "base_uri": "https://localhost:8080/",
          "height": 227
        },
        "id": "XWQ6nMt_hTUS",
        "outputId": "a711965c-83bc-45ba-8fe2-85ff0e232d20"
      },
      "source": [
        "discount, epochs, learning_rate = 0.01, 200, 0.01\n",
        "trans_prob = np.array(\n",
        "            [[[transition_probability(env, i, j, k) for k in range(n_states)]\n",
        "              for j in range(n_actions)]\n",
        "             for i in range(n_states)])\n",
        "# trajectories\n",
        "# feat_weights, r =irl(feature_matrix, n_actions, discount, trans_prob, np.array(trajectories), epochs, learning_rate)\n",
        "# [newDeaths, newHospitalizations, newCases, graphDensity, numCCs, densityLargestCC]\n",
        "n_trajectories = list(np.arange(1,28,2))\n",
        "feat_weight_df = pd.DataFrame(columns=list(np.arange(1,7)))\n",
        "\n",
        "for n in n_trajectories:\n",
        "  trajectories, traj_len = generate_trajectories(n, env)\n",
        "  if traj_len > 1:\n",
        "    feat_weights, r =irl(feature_matrix, n_actions, discount, trans_prob, np.array(trajectories), epochs, learning_rate)\n",
        "    if not n == 11:\n",
        "      feat_weight_df = feat_weight_df.append({1: feat_weights[0], 2: feat_weights[1], 3: feat_weights[2], 4: feat_weights[3],  5:feat_weights[4], 6:feat_weights[5], \"trajectoryLength\":traj_len}, ignore_index=True)\n",
        "feat_weight_df\n"
      ],
      "execution_count": null,
      "outputs": [
        {
          "output_type": "execute_result",
          "data": {
            "text/html": [
              "<div>\n",
              "<style scoped>\n",
              "    .dataframe tbody tr th:only-of-type {\n",
              "        vertical-align: middle;\n",
              "    }\n",
              "\n",
              "    .dataframe tbody tr th {\n",
              "        vertical-align: top;\n",
              "    }\n",
              "\n",
              "    .dataframe thead th {\n",
              "        text-align: right;\n",
              "    }\n",
              "</style>\n",
              "<table border=\"1\" class=\"dataframe\">\n",
              "  <thead>\n",
              "    <tr style=\"text-align: right;\">\n",
              "      <th></th>\n",
              "      <th>1</th>\n",
              "      <th>2</th>\n",
              "      <th>3</th>\n",
              "      <th>4</th>\n",
              "      <th>5</th>\n",
              "      <th>6</th>\n",
              "      <th>trajectoryLength</th>\n",
              "    </tr>\n",
              "  </thead>\n",
              "  <tbody>\n",
              "    <tr>\n",
              "      <th>0</th>\n",
              "      <td>-10509.583310</td>\n",
              "      <td>49330.023103</td>\n",
              "      <td>-6172.088413</td>\n",
              "      <td>0.457197</td>\n",
              "      <td>134.922103</td>\n",
              "      <td>1.626108</td>\n",
              "      <td>28.0</td>\n",
              "    </tr>\n",
              "    <tr>\n",
              "      <th>1</th>\n",
              "      <td>-1503.046731</td>\n",
              "      <td>10802.357832</td>\n",
              "      <td>560.558025</td>\n",
              "      <td>0.143147</td>\n",
              "      <td>21.491438</td>\n",
              "      <td>0.942199</td>\n",
              "      <td>9.0</td>\n",
              "    </tr>\n",
              "    <tr>\n",
              "      <th>2</th>\n",
              "      <td>-679.450339</td>\n",
              "      <td>4060.353185</td>\n",
              "      <td>1537.661801</td>\n",
              "      <td>0.965004</td>\n",
              "      <td>9.744723</td>\n",
              "      <td>0.515117</td>\n",
              "      <td>5.0</td>\n",
              "    </tr>\n",
              "    <tr>\n",
              "      <th>3</th>\n",
              "      <td>-445.336428</td>\n",
              "      <td>3158.526410</td>\n",
              "      <td>1285.851863</td>\n",
              "      <td>0.975728</td>\n",
              "      <td>7.245683</td>\n",
              "      <td>0.536936</td>\n",
              "      <td>4.0</td>\n",
              "    </tr>\n",
              "    <tr>\n",
              "      <th>4</th>\n",
              "      <td>-178.252222</td>\n",
              "      <td>1533.676857</td>\n",
              "      <td>535.011471</td>\n",
              "      <td>0.158288</td>\n",
              "      <td>2.770556</td>\n",
              "      <td>0.866856</td>\n",
              "      <td>3.0</td>\n",
              "    </tr>\n",
              "    <tr>\n",
              "      <th>5</th>\n",
              "      <td>-95.326540</td>\n",
              "      <td>752.445249</td>\n",
              "      <td>213.133060</td>\n",
              "      <td>0.401406</td>\n",
              "      <td>1.430382</td>\n",
              "      <td>0.950804</td>\n",
              "      <td>2.0</td>\n",
              "    </tr>\n",
              "  </tbody>\n",
              "</table>\n",
              "</div>"
            ],
            "text/plain": [
              "              1             2  ...         6  trajectoryLength\n",
              "0 -10509.583310  49330.023103  ...  1.626108              28.0\n",
              "1  -1503.046731  10802.357832  ...  0.942199               9.0\n",
              "2   -679.450339   4060.353185  ...  0.515117               5.0\n",
              "3   -445.336428   3158.526410  ...  0.536936               4.0\n",
              "4   -178.252222   1533.676857  ...  0.866856               3.0\n",
              "5    -95.326540    752.445249  ...  0.950804               2.0\n",
              "\n",
              "[6 rows x 7 columns]"
            ]
          },
          "metadata": {
            "tags": []
          },
          "execution_count": 67
        }
      ]
    },
    {
      "cell_type": "code",
      "metadata": {
        "colab": {
          "base_uri": "https://localhost:8080/",
          "height": 513
        },
        "id": "wUSP8bdM92Qi",
        "outputId": "b562f667-2f8f-4917-994e-27fede6831cc"
      },
      "source": [
        "import seaborn as sns\n",
        "plt.figure(figsize=(8, 8))\n",
        "x = np.arange(1,7)\n",
        "y = feat_weight_df[feat_weight_df['trajectoryLength'] == 2.0][[1,2,3,4,5,6]]\n",
        "feat_df = pd.DataFrame()\n",
        "feat_df['feature'] = x\n",
        "feat_df['weight'] = y.values[0]\n",
        "splot=sns.barplot(x=\"feature\",y=\"weight\",data=feat_df,color=\"salmon\")\n",
        "for bar in splot.patches:\n",
        "    splot.annotate(format(bar.get_height(), '.2f'),\n",
        "                   (bar.get_x() + bar.get_width() / 2,\n",
        "                    bar.get_height()), ha='center', va='center',\n",
        "                   size=10, xytext=(0, 8),\n",
        "                   textcoords='offset points')\n",
        "plt.xlabel(\"features\")\n",
        "plt.ylabel(\"weight\")\n",
        "plt.title(\"Weights of Features from IRL Model\")\n",
        "plt.xticks()\n",
        "plt.savefig(os.getcwd() + \"/feat_weights.png\", bbox_inches = \"tight\")\n",
        "plt.show()"
      ],
      "execution_count": null,
      "outputs": [
        {
          "output_type": "display_data",
          "data": {
            "image/png": "[encoded data removed]",
            "text/plain": [
              "<Figure size 576x576 with 1 Axes>"
            ]
          },
          "metadata": {
            "tags": [],
            "needs_background": "light"
          }
        }
      ]
    },
    {
      "cell_type": "code",
      "metadata": {
        "colab": {
          "base_uri": "https://localhost:8080/",
          "height": 554
        },
        "id": "CVaW8yPfKtd3",
        "outputId": "846f59a4-f8df-454f-e25d-fff0e8c97de3"
      },
      "source": [
        "plt.figure(figsize=(8, 8))\n",
        "plt.suptitle(\"Feature Weights of Features for Different Trajectory Lengths\")\n",
        "\n",
        "plt.subplot(1, 2, 1)\n",
        "g = sns.lineplot(data=feat_weight_df[feat_weight_df.columns[:3]])\n",
        "g.legend_.set_title('feature')\n",
        "# plt.title(\"Feature Weights of Network-Related Features for Different Trajectory Lengths\")\n",
        "plt.xticks(ticks=list(np.arange(len(feat_weight_df))), labels=feat_weight_df.trajectoryLength)\n",
        "plt.xlabel(\"trajectory length\")\n",
        "plt.ylabel(\"weight\")\n",
        "plt.grid(linewidth=0.5)\n",
        "\n",
        "plt.subplot(1, 2, 2)\n",
        "h = sns.lineplot(data=feat_weight_df[feat_weight_df.columns[3:6]])\n",
        "h.legend_.set_title('feature')\n",
        "plt.xticks(ticks=list(np.arange(len(feat_weight_df))), labels=feat_weight_df.trajectoryLength)\n",
        "# plt.title(\"Feature Weights of Network-Related Features for Different Trajectory Lengths\")\n",
        "plt.xlabel(\"trajectory length\")\n",
        "plt.ylabel(\"weight\")\n",
        "plt.grid(linewidth=0.5)\n",
        "plt.savefig(os.getcwd() + \"/feat_weights_diff_len.png\", bbox_inches = \"tight\")\n",
        "plt.show()"
      ],
      "execution_count": null,
      "outputs": [
        {
          "output_type": "display_data",
          "data": {
            "image/png": "[encoded data removed]",
            "text/plain": [
              "<Figure size 576x576 with 2 Axes>"
            ]
          },
          "metadata": {
            "tags": [],
            "needs_background": "light"
          }
        }
      ]
    },
    {
      "cell_type": "code",
      "metadata": {
        "colab": {
          "base_uri": "https://localhost:8080/"
        },
        "id": "A4z_DFNPPFtR",
        "outputId": "c681023b-6f04-43f6-86f0-8a3b6a52719c"
      },
      "source": [
        "feat_df = pd.DataFrame()\n",
        "feat_df['Feature'] = np.arange(1,7)\n",
        "feat_df['Value'] = ['Float']*6\n",
        "feat_df['Meaning'] = ['Average number of new deaths for this state', 'Average number of new hospitalizations for this state', 'Average number of new cases for this state', 'Average retweet network density for this state', 'Average number of retweet network connected components for this state', 'Average density retweet network largest connected component for this state']\n",
        "pd.options.display.max_colwidth = 100\n",
        "print(feat_df.to_latex(index=False))"
      ],
      "execution_count": null,
      "outputs": [
        {
          "output_type": "stream",
          "text": [
            "\\begin{tabular}{rll}\n",
            "\\toprule\n",
            " Feature &  Value &                                                                     Meaning \\\\\n",
            "\\midrule\n",
            "       1 &  Float &                                 Average number of new deaths for this state \\\\\n",
            "       2 &  Float &                       Average number of new hospitalizations for this state \\\\\n",
            "       3 &  Float &                                  Average number of new cases for this state \\\\\n",
            "       4 &  Float &                              Average retweet network density for this state \\\\\n",
            "       5 &  Float &       Average number of retweet network connected components for this state \\\\\n",
            "       6 &  Float &  Average density retweet network largest connected component for this state \\\\\n",
            "\\bottomrule\n",
            "\\end{tabular}\n",
            "\n"
          ],
          "name": "stdout"
        }
      ]
    },
    {
      "cell_type": "code",
      "metadata": {
        "colab": {
          "base_uri": "https://localhost:8080/"
        },
        "id": "FCm7bLwHXLK1",
        "outputId": "f55d2a9a-ed56-4d16-fb7b-12052908d39e"
      },
      "source": [
        "greg_cal_df = pd.DataFrame()\n",
        "greg_cal_df['Week'] = sorted([int(filtered_users_dfs_weeks[g]) for g in filtered_graphs])\n",
        "print(sorted([int(filtered_users_dfs_weeks[g]) for g in filtered_graphs]))\n",
        "greg_cal_df['Dates'] = ['2/24-3/1', '3/2-3/8', '3/9-3/15','3/16-3/22','3/23-3/29', '3/30-4/5', '4/6-4/12', '4/13-4/19', '4/20-4/26', '4/27-5/3', '5/4-5/10', '5/11-5/17', '5/18-5/24', '5/25-5/31', '6/1-6/7', '6/22-6/28', '6/29-7/5', '7/6-7/12', '7/13-7/19', '7/20-7/26','7/27-8/2', '8/3-8/9', '8/10-8/16', '8/17-8/23', '8/24-8/30', '8/31-9/6', '9/7-9/13', '9/14-9/20']\n",
        "print(greg_cal_df.to_latex(index=False))"
      ],
      "execution_count": null,
      "outputs": [
        {
          "output_type": "stream",
          "text": [
            "[9, 10, 11, 12, 13, 14, 15, 16, 17, 18, 19, 20, 21, 22, 23, 26, 27, 28, 29, 30, 31, 32, 33, 34, 35, 36, 37, 38]\n",
            "\\begin{tabular}{rl}\n",
            "\\toprule\n",
            " Week &      Dates \\\\\n",
            "\\midrule\n",
            "    9 &   2/24-3/1 \\\\\n",
            "   10 &    3/2-3/8 \\\\\n",
            "   11 &   3/9-3/15 \\\\\n",
            "   12 &  3/16-3/22 \\\\\n",
            "   13 &  3/23-3/29 \\\\\n",
            "   14 &   3/30-4/5 \\\\\n",
            "   15 &   4/6-4/12 \\\\\n",
            "   16 &  4/13-4/19 \\\\\n",
            "   17 &  4/20-4/26 \\\\\n",
            "   18 &   4/27-5/3 \\\\\n",
            "   19 &   5/4-5/10 \\\\\n",
            "   20 &  5/11-5/17 \\\\\n",
            "   21 &  5/18-5/24 \\\\\n",
            "   22 &  5/25-5/31 \\\\\n",
            "   23 &    6/1-6/7 \\\\\n",
            "   26 &  6/22-6/28 \\\\\n",
            "   27 &   6/29-7/5 \\\\\n",
            "   28 &   7/6-7/12 \\\\\n",
            "   29 &  7/13-7/19 \\\\\n",
            "   30 &  7/20-7/26 \\\\\n",
            "   31 &   7/27-8/2 \\\\\n",
            "   32 &    8/3-8/9 \\\\\n",
            "   33 &  8/10-8/16 \\\\\n",
            "   34 &  8/17-8/23 \\\\\n",
            "   35 &  8/24-8/30 \\\\\n",
            "   36 &   8/31-9/6 \\\\\n",
            "   37 &   9/7-9/13 \\\\\n",
            "   38 &  9/14-9/20 \\\\\n",
            "\\bottomrule\n",
            "\\end{tabular}\n",
            "\n"
          ],
          "name": "stdout"
        }
      ]
    },
    {
      "cell_type": "markdown",
      "metadata": {
        "id": "CnaVF-Ij58Oi"
      },
      "source": [
        "## **Topic Exposure**"
      ]
    },
    {
      "cell_type": "code",
      "metadata": {
        "colab": {
          "base_uri": "https://localhost:8080/"
        },
        "id": "EHjKd-ZY0j0u",
        "outputId": "b7855049-2457-4755-e87c-b88c83b57f80"
      },
      "source": [
        "nltk.download('wordnet')\n",
        "nltk.download('stopwords')\n",
        "stop = set(stopwords.words('english'))\n",
        "exclude = set(string.punctuation)\n",
        "lemma = WordNetLemmatizer()\n",
        "def clean(doc):\n",
        "    stop_free = \" \".join([i for i in doc.lower().split() if i not in stop])\n",
        "    punc_free = ''.join(ch for ch in stop_free if ch not in exclude)\n",
        "    normalized = \" \".join(lemma.lemmatize(word) for word in punc_free.split())\n",
        "    return normalized"
      ],
      "execution_count": null,
      "outputs": [
        {
          "output_type": "stream",
          "text": [
            "[nltk_data] Downloading package wordnet to /root/nltk_data...\n",
            "[nltk_data]   Unzipping corpora/wordnet.zip.\n",
            "[nltk_data] Downloading package stopwords to /root/nltk_data...\n",
            "[nltk_data]   Unzipping corpora/stopwords.zip.\n"
          ],
          "name": "stdout"
        }
      ]
    },
    {
      "cell_type": "code",
      "metadata": {
        "id": "kI4yVkwa1MZE"
      },
      "source": [
        "def print_top_words(model, feature_names, n_top_words):\n",
        "    for topic_idx, topic in enumerate(model.components_):\n",
        "        message = \"Topic #%d: \" % topic_idx\n",
        "        message += \" \".join([feature_names[i]\n",
        "                             for i in topic.argsort()[:-n_top_words - 1:-1]])\n",
        "        print(message)\n",
        "    print()"
      ],
      "execution_count": null,
      "outputs": []
    },
    {
      "cell_type": "code",
      "metadata": {
        "id": "jyXtrxRnAVho"
      },
      "source": [
        "def tag_visible(element):\n",
        "    if element.parent.name in ['style', 'script', 'head', 'title', 'meta', '[document]']:\n",
        "        return False\n",
        "    if isinstance(element, Comment):\n",
        "        return False\n",
        "    return True"
      ],
      "execution_count": null,
      "outputs": []
    },
    {
      "cell_type": "code",
      "metadata": {
        "id": "EyNl6HQ87Dmh"
      },
      "source": [
        "def parse_link(url):\n",
        "  start = url.index('expanded_url') + len('expanded_url')\n",
        "  end = url.index('display_url')\n",
        "  start_of_expanded = url[start:end].lower().index('h')\n",
        "  end_of_expanded = url[start:end].lower().index(',') - 1\n",
        "  link = url[start:end][start_of_expanded:end_of_expanded]\n",
        "  return link"
      ],
      "execution_count": null,
      "outputs": []
    },
    {
      "cell_type": "code",
      "metadata": {
        "id": "F9L9Gcqr74Fa"
      },
      "source": [
        "def perform_lda(get_text):\n",
        "  soup = BeautifulSoup(get_text, \"html.parser\")\n",
        "  texts = soup.findAll(text=True)\n",
        "  visible_texts = filter(tag_visible, texts)\n",
        "  body_text = u\" \".join(t.strip() for t in visible_texts)\n",
        "  vec = CountVectorizer()\n",
        "  try:\n",
        "    tf = vec.fit_transform(re.split(' |\\n',clean(body_text)))\n",
        "  # tf = vec.fit_transform(clean(body_text).split(['\\n', ' ']))\n",
        "    lda = LDA(max_iter=5,learning_method='online',learning_offset=50.,random_state=0)\n",
        "    lda.fit(tf)\n",
        "    return lda, vec\n",
        "  except ValueError:\n",
        "    return None, None"
      ],
      "execution_count": null,
      "outputs": []
    },
    {
      "cell_type": "code",
      "metadata": {
        "id": "aNHEEBrB9IDH"
      },
      "source": [
        "def get_top_words(model, feature_names, num):\n",
        "    topics = []\n",
        "    for topic_idx, topic in enumerate(model.components_):\n",
        "        topics.extend([feature_names[i]\n",
        "                             for i in topic.argsort()[:-num - 1:-1]])\n",
        "    return topics"
      ],
      "execution_count": null,
      "outputs": []
    },
    {
      "cell_type": "code",
      "metadata": {
        "id": "zaRUmBMU6Yuq"
      },
      "source": [
        "def find_topics(weekly_df):\n",
        "  all_topics = []\n",
        "  for url in weekly_df['linked urls']:\n",
        "    topics = []\n",
        "    if url != '[]':\n",
        "      link = parse_link(url)\n",
        "      try:\n",
        "        get_url = rq.get(link)\n",
        "      except:\n",
        "        time.sleep(50)\n",
        "        continue\n",
        "      code = get_url.status_code\n",
        "      get_text = get_url.text\n",
        "      if code == 200:\n",
        "        lda, vec = perform_lda(get_text)\n",
        "        if not (lda == None and vec == None):\n",
        "          topics.extend(get_top_words(lda, vec.get_feature_names(), 5))\n",
        "        else: topics.extend(['']*50)\n",
        "    all_topics.append(topics)\n",
        "\n",
        "  weekly_df_topics = weekly_df.assign(topics = all_topics)\n",
        "  return weekly_df_topics\n"
      ],
      "execution_count": null,
      "outputs": []
    },
    {
      "cell_type": "code",
      "metadata": {
        "id": "eXW3QzvD_P82"
      },
      "source": [
        "weekly_dfs_with_topics = []\n",
        "for i in range(len(weekly_dfs)):\n",
        "  w = weekly_dfs[i]\n",
        "  w_ = find_topics(w)\n",
        "  w_.to_csv('all_tweets_with_topics_' + str(i) + '.tsv', index=False, sep='\\t')\n",
        "  weekly_dfs_with_topics.append(w_)"
      ],
      "execution_count": null,
      "outputs": []
    },
    {
      "cell_type": "code",
      "metadata": {
        "colab": {
          "base_uri": "https://localhost:8080/"
        },
        "id": "3rTaX8PX8jzO",
        "outputId": "3aca5962-a8db-42ae-df62-5ac4a5739ef4"
      },
      "source": [
        "# weekly_df_topics = find_topics(weeklies[0])"
      ],
      "execution_count": null,
      "outputs": [
        {
          "output_type": "stream",
          "text": [
            "['https://twitter.com/realDailyWire/status/1247896114700800001', 'https://twitter.com/npratc/status/1247988083376549888', 'https://twitter.com/thehill/status/1248084251544870912']\n"
          ],
          "name": "stdout"
        }
      ]
    },
    {
      "cell_type": "markdown",
      "metadata": {
        "id": "8M6RHjhGMDsA"
      },
      "source": [
        "## Community Detection"
      ]
    },
    {
      "cell_type": "markdown",
      "metadata": {
        "id": "V1gyE9p9-Wxw"
      },
      "source": [
        "This was a first attempt at community detection... now deprecated"
      ]
    },
    {
      "cell_type": "code",
      "metadata": {
        "id": "g2fueTWULp_x"
      },
      "source": [
        "communities_generator = nx.algorithms.community.girvan_newman(sample_weekly_graph)\n",
        "top_level_communities = next(communities_generator)\n",
        "next_level_communities = next(communities_generator)\n",
        "sorted(map(sorted, next_level_communities))"
      ],
      "execution_count": null,
      "outputs": []
    },
    {
      "cell_type": "code",
      "metadata": {
        "id": "pMRDo_wQZeTK"
      },
      "source": [
        "# Compute partition\n",
        "partition = community.best_partition(sample_weekly_graph.to_undirected())\n",
        "\n",
        "# Get a set of the communities\n",
        "communities = set(partition.values())"
      ],
      "execution_count": null,
      "outputs": []
    },
    {
      "cell_type": "code",
      "metadata": {
        "colab": {
          "base_uri": "https://localhost:8080/"
        },
        "id": "DkMG-LVIioeQ",
        "outputId": "e5a0829a-e64c-4ca1-f7e2-8885ccc4b6e3"
      },
      "source": [
        "len(communities)"
      ],
      "execution_count": null,
      "outputs": [
        {
          "output_type": "execute_result",
          "data": {
            "text/plain": [
              "220053"
            ]
          },
          "metadata": {
            "tags": []
          },
          "execution_count": 16
        }
      ]
    },
    {
      "cell_type": "code",
      "metadata": {
        "id": "EW_Cm4rxLiGi"
      },
      "source": [
        "# Create a dictionary mapping community number to nodes within that community\n",
        "communities_dict = {c: [k for k, v in partition.items() if v == c] for c in communities}\n",
        "\n",
        "# Filter that dictionary to map to first sort the nodes in the community by degree, then take the top 5.\n",
        "highest_degree = {k: sorted(v, key=lambda x: sample_weekly_graph.degree(x))[-5:] for k, v in communities_dict.items()}"
      ],
      "execution_count": null,
      "outputs": []
    },
    {
      "cell_type": "code",
      "metadata": {
        "colab": {
          "base_uri": "https://localhost:8080/"
        },
        "id": "CgbFfAdbicvX",
        "outputId": "ec511775-60a9-4089-9133-00f0130650ff"
      },
      "source": [
        "highest_degree"
      ],
      "execution_count": null,
      "outputs": [
        {
          "output_type": "execute_result",
          "data": {
            "text/plain": [
              "{0: ['1127220007077797900'],\n",
              " 1: ['884048368250613800'],\n",
              " 2: ['1220384458177687600'],\n",
              " 3: ['1578857004'],\n",
              " 4: ['1240452287048401000'],\n",
              " 5: ['1215399878299394000'],\n",
              " 6: ['16643570'],\n",
              " 7: ['2573088570'],\n",
              " 8: ['1167120000286523400'],\n",
              " 9: ['1006804757875515400'],\n",
              " 10: ['7703052'],\n",
              " 11: ['756331456281120800'],\n",
              " 12: ['2444492244'],\n",
              " 13: ['1241830099483275300'],\n",
              " 14: ['2519416129'],\n",
              " 15: ['2899630090'],\n",
              " 16: ['1108557386321674200'],\n",
              " 17: ['1237648756792856600'],\n",
              " 18: ['928394782426017800'],\n",
              " 19: ['1000635546'],\n",
              " 20: ['1176989454428336000'],\n",
              " 21: ['1011261450164187100'],\n",
              " 22: ['1475863039'],\n",
              " 23: ['95399839'],\n",
              " 24: ['216438127'],\n",
              " 25: ['1087627519'],\n",
              " 26: ['1110160568248238100'],\n",
              " 27: ['874696526'],\n",
              " 28: ['790033898960920600'],\n",
              " 29: ['1125412651310276600'],\n",
              " 30: ['104191265'],\n",
              " 31: ['1106841274802466800'],\n",
              " 32: ['2175198895'],\n",
              " 33: ['1108692890836967400'],\n",
              " 34: ['1260195841'],\n",
              " 35: ['1131854274223366100'],\n",
              " 36: ['4891312721'],\n",
              " 37: ['2743498930'],\n",
              " 38: ['288304992'],\n",
              " 39: ['1090208471809691600'],\n",
              " 40: ['930862194622902300'],\n",
              " 41: ['249565929'],\n",
              " 42: ['233143235'],\n",
              " 43: ['2889601750'],\n",
              " 44: ['996328988'],\n",
              " 45: ['1190650434375078000'],\n",
              " 46: ['521407671'],\n",
              " 47: ['1210219328999694300'],\n",
              " 48: ['17137771'],\n",
              " 49: ['415893403'],\n",
              " 50: ['64616317'],\n",
              " 51: ['566353048'],\n",
              " 52: ['1196215176921538600'],\n",
              " 53: ['25135325'],\n",
              " 54: ['35983135'],\n",
              " 55: ['1065720223741882400', '67577895'],\n",
              " 56: ['51538657'],\n",
              " 57: ['356604861'],\n",
              " 58: ['885474422'],\n",
              " 59: ['1263504961175842800'],\n",
              " 60: ['1616480018'],\n",
              " 61: ['115850498'],\n",
              " 62: ['819231737637118000'],\n",
              " 63: ['1080162713286918100'],\n",
              " 64: ['251497489'],\n",
              " 65: ['19379695'],\n",
              " 66: ['15693162'],\n",
              " 67: ['286334646'],\n",
              " 68: ['1114657096874598400'],\n",
              " 69: ['1190772842075435000'],\n",
              " 70: ['733804217148801000'],\n",
              " 71: ['1530565592'],\n",
              " 72: ['217071524'],\n",
              " 73: ['1180870394691162000'],\n",
              " 74: ['605098037'],\n",
              " 75: ['714296954331615200'],\n",
              " 76: ['1093695069176000500'],\n",
              " 77: ['3310547582'],\n",
              " 78: ['1145089094298587100'],\n",
              " 79: ['2200174742'],\n",
              " 80: ['1214931140513091600'],\n",
              " 81: ['19654143'],\n",
              " 82: ['1591605564'],\n",
              " 83: ['941400939511943200'],\n",
              " 84: ['103491620'],\n",
              " 85: ['825074418011471900'],\n",
              " 86: ['3389134989'],\n",
              " 87: ['1195757953590136800'],\n",
              " 88: ['249936636'],\n",
              " 89: ['806849234884509700'],\n",
              " 90: ['3097855601'],\n",
              " 91: ['794905726510567400'],\n",
              " 92: ['757729052652253200'],\n",
              " 93: ['48118691'],\n",
              " 94: ['1048769176452714500'],\n",
              " 95: ['3183220190'],\n",
              " 96: ['711324133'],\n",
              " 97: ['2466692239'],\n",
              " 98: ['51373802'],\n",
              " 99: ['14888362'],\n",
              " 100: ['316580908'],\n",
              " 101: ['1072679070226399200'],\n",
              " 102: ['313047992'],\n",
              " 103: ['799529802222936000'],\n",
              " 104: ['961273324042182700', '2297871647', '1035418272764715000'],\n",
              " 105: ['1201856028951875600'],\n",
              " 106: ['1142027608554709000'],\n",
              " 107: ['2471421697'],\n",
              " 108: ['1224492145148678100'],\n",
              " 109: ['105301721'],\n",
              " 110: ['385393893'],\n",
              " 111: ['766057748316422100'],\n",
              " 112: ['270437243'],\n",
              " 113: ['796068625140551700'],\n",
              " 114: ['2730373823'],\n",
              " 115: ['1649434122'],\n",
              " 116: ['77414895'],\n",
              " 117: ['1245225097960415200'],\n",
              " 118: ['997634180'],\n",
              " 119: ['3090226526'],\n",
              " 120: ['810387464317759500'],\n",
              " 121: ['5988062', '16973333', '87818409', '1652541', '759251'],\n",
              " 122: ['1166201704490111000',\n",
              "  '589832641',\n",
              "  '1148579621698510800',\n",
              "  '1162952266669650000',\n",
              "  '1141654828524773400'],\n",
              " 123: ['15771723'],\n",
              " 124: ['1240920776640884700'],\n",
              " 125: ['420615220'],\n",
              " 126: ['119074555'],\n",
              " 127: ['1585412984'],\n",
              " 128: ['1238496046612766700'],\n",
              " 129: ['1216140879238516700'],\n",
              " 130: ['311140916'],\n",
              " 131: ['71360385'],\n",
              " 132: ['1180566893062742000'],\n",
              " 133: ['586618051'],\n",
              " 134: ['76545283'],\n",
              " 135: ['606055360'],\n",
              " 136: ['739179317641367600'],\n",
              " 137: ['1137853732438270000'],\n",
              " 138: ['866072724'],\n",
              " 139: ['921011255678189600'],\n",
              " 140: ['187598543',\n",
              "  '1267486397595660300',\n",
              "  '590976389',\n",
              "  '3632073868',\n",
              "  '5120691'],\n",
              " 141: ['910182140'],\n",
              " 142: ['19308765', '1243562842437177300'],\n",
              " 143: ['785398242569621500'],\n",
              " 144: ['780480114555494400'],\n",
              " 145: ['768554889832116200'],\n",
              " 146: ['969707822236733400'],\n",
              " 147: ['2779517050'],\n",
              " 148: ['1079580617845682200'],\n",
              " 149: ['820148666'],\n",
              " 150: ['1213039271621222400'],\n",
              " 151: ['2743839205'],\n",
              " 152: ['17213550'],\n",
              " 153: ['1249046589248647200'],\n",
              " 154: ['792819060924756000'],\n",
              " 155: ['1063430467406442500'],\n",
              " 156: ['825987259'],\n",
              " 157: ['1276506872'],\n",
              " 158: ['558961631'],\n",
              " 159: ['1052996095'],\n",
              " 160: ['931798103073738800'],\n",
              " 161: ['2860122638'],\n",
              " 162: ['3347223447'],\n",
              " 163: ['1207899033500438500'],\n",
              " 164: ['1040758412907343900'],\n",
              " 165: ['808768027575533600'],\n",
              " 166: ['28468286'],\n",
              " 167: ['30836693'],\n",
              " 168: ['29729764'],\n",
              " 169: ['405128805'],\n",
              " 170: ['133971844'],\n",
              " 171: ['4171684919'],\n",
              " 172: ['3299231878'],\n",
              " 173: ['140847180'],\n",
              " 174: ['254472201'],\n",
              " 175: ['826461371315392500'],\n",
              " 176: ['889413048729034800'],\n",
              " 177: ['821310999206694900'],\n",
              " 178: ['1076159572455366700'],\n",
              " 179: ['1041741478953836500'],\n",
              " 180: ['369891519'],\n",
              " 181: ['49608394'],\n",
              " 182: ['175060800'],\n",
              " 183: ['3156990032'],\n",
              " 184: ['1109135381071568900'],\n",
              " 185: ['716191827196391400'],\n",
              " 186: ['1129544372742172700'],\n",
              " 187: ['1070686153693691900'],\n",
              " 188: ['74179515'],\n",
              " 189: ['2894051962'],\n",
              " 190: ['736790635147972600'],\n",
              " 191: ['1060063914644439000'],\n",
              " 192: ['1165707645401149400'],\n",
              " 193: ['624310497'],\n",
              " 194: ['4851558256'],\n",
              " 195: ['1135610207889895400'],\n",
              " 196: ['1213987225'],\n",
              " 197: ['172150855'],\n",
              " 198: ['265795569'],\n",
              " 199: ['1054993330638123000'],\n",
              " 200: ['133001476'],\n",
              " 201: ['4661254997',\n",
              "  '322830951',\n",
              "  '46551498',\n",
              "  '1219007111239282700',\n",
              "  '235217558'],\n",
              " 202: ['27386909'],\n",
              " 203: ['4029018734'],\n",
              " 204: ['176860118'],\n",
              " 205: ['1148415814179201000'],\n",
              " 206: ['2801399401'],\n",
              " 207: ['106289954'],\n",
              " 208: ['773678508178600000'],\n",
              " 209: ['1245621764429774800'],\n",
              " 210: ['635532900'],\n",
              " 211: ['74008418'],\n",
              " 212: ['38383239'],\n",
              " 213: ['1036707242211389400'],\n",
              " 214: ['551559276'],\n",
              " 215: ['1213576080205869000'],\n",
              " 216: ['1010919295604252700'],\n",
              " 217: ['1109493281635725300'],\n",
              " 218: ['1270525338'],\n",
              " 219: ['2620158751'],\n",
              " 220: ['834198090563338200'],\n",
              " 221: ['4259654745'],\n",
              " 222: ['1961958956'],\n",
              " 223: ['534214790'],\n",
              " 224: ['634055034'],\n",
              " 225: ['140762115'],\n",
              " 226: ['2200877147'],\n",
              " 227: ['728859242292125700'],\n",
              " 228: ['2263320834'],\n",
              " 229: ['701883785650933800'],\n",
              " 230: ['302567584'],\n",
              " 231: ['1237122645864394800'],\n",
              " 232: ['321540532'],\n",
              " 233: ['34995524'],\n",
              " 234: ['717271758739533800'],\n",
              " 235: ['179087186'],\n",
              " 236: ['166275345'],\n",
              " 237: ['152694800'],\n",
              " 238: ['857389078777442300'],\n",
              " 239: ['1029659846067540000'],\n",
              " 240: ['1455714140'],\n",
              " 241: ['483763540'],\n",
              " 242: ['489958785'],\n",
              " 243: ['2517801373'],\n",
              " 244: ['997902853'],\n",
              " 245: ['3319806630'],\n",
              " 246: ['969418538'],\n",
              " 247: ['1075754285495976000'],\n",
              " 248: ['836118783953629200'],\n",
              " 249: ['1214105635802869800'],\n",
              " 250: ['841519644'],\n",
              " 251: ['916943088152485900'],\n",
              " 252: ['1142679068191514600'],\n",
              " 253: ['2626256988'],\n",
              " 254: ['75948134'],\n",
              " 255: ['70752796'],\n",
              " 256: ['1025883914219348000'],\n",
              " 257: ['834514230'],\n",
              " 258: ['803012724468936700'],\n",
              " 259: ['1068150648451944400'],\n",
              " 260: ['1241450134069805000'],\n",
              " 261: ['2610943788'],\n",
              " 262: ['1182375877344137200'],\n",
              " 263: ['1088842781911588900'],\n",
              " 264: ['3543092053'],\n",
              " 265: ['2620702725'],\n",
              " 266: ['1313558658'],\n",
              " 267: ['3261899950'],\n",
              " 268: ['19826165'],\n",
              " 269: ['719694388402761700'],\n",
              " 270: ['346096879'],\n",
              " 271: ['756639360959844400'],\n",
              " 272: ['187782838'],\n",
              " 273: ['227287772'],\n",
              " 274: ['1095839218641838100'],\n",
              " 275: ['808014258'],\n",
              " 276: ['3408024550'],\n",
              " 277: ['59484912'],\n",
              " 278: ['268777595'],\n",
              " 279: ['2569195869'],\n",
              " 280: ['41964692'],\n",
              " 281: ['554578338'],\n",
              " 282: ['3606051617'],\n",
              " 283: ['539306226'],\n",
              " 284: ['2912834345'],\n",
              " 285: ['1043171721132560400'],\n",
              " 286: ['819916777'],\n",
              " 287: ['1023300683133534200',\n",
              "  '834672494',\n",
              "  '869967070984851500',\n",
              "  '1249287551321424000',\n",
              "  '14499829'],\n",
              " 288: ['451409236'],\n",
              " 289: ['1248583949405671400'],\n",
              " 290: ['15157885'],\n",
              " 291: ['1257316959441399800'],\n",
              " 292: ['2608345247'],\n",
              " 293: ['1230838835342381000'],\n",
              " 294: ['894503534'],\n",
              " 295: ['3024775494'],\n",
              " 296: ['1088843697536548900'],\n",
              " 297: ['3410518295'],\n",
              " 298: ['2178882809'],\n",
              " 299: ['1140257094496587800'],\n",
              " 300: ['224296649'],\n",
              " 301: ['1124381281792417800'],\n",
              " 302: ['43538243'],\n",
              " 303: ['1171097161368395800'],\n",
              " 304: ['721855924969713700'],\n",
              " 305: ['296346577'],\n",
              " 306: ['1080357726'],\n",
              " 307: ['25072601'],\n",
              " 308: ['227977955'],\n",
              " 309: ['903010324114272300'],\n",
              " 310: ['219160436'],\n",
              " 311: ['1330667868'],\n",
              " 312: ['387093544'],\n",
              " 313: ['1155398103329120300'],\n",
              " 314: ['2996786445'],\n",
              " 315: ['3435497260'],\n",
              " 316: ['141957164',\n",
              "  '1061306634167836700',\n",
              "  '859061213526929400',\n",
              "  '1248201888442564600',\n",
              "  '19644592'],\n",
              " 317: ['882127926'],\n",
              " 318: ['372463467'],\n",
              " 319: ['797117353158963200'],\n",
              " 320: ['22794611'],\n",
              " 321: ['1181859509104365600'],\n",
              " 322: ['422164503'],\n",
              " 323: ['955272881633599500'],\n",
              " 324: ['1174680662797774800'],\n",
              " 325: ['1174323940463825000'],\n",
              " 326: ['1380830887'],\n",
              " 327: ['43413425'],\n",
              " 328: ['2203221589'],\n",
              " 329: ['2178085940'],\n",
              " 330: ['540410301'],\n",
              " 331: ['3731173517'],\n",
              " 332: ['398865556'],\n",
              " 333: ['1231879097036370000',\n",
              "  '1249362661508132900',\n",
              "  '3016185331',\n",
              "  '2596143056',\n",
              "  '1244892413262311400'],\n",
              " 334: ['894323679055806500'],\n",
              " 335: ['987729420755533800'],\n",
              " 336: ['3212538472'],\n",
              " 337: ['1069900262876287000'],\n",
              " 338: ['1190959306784555000'],\n",
              " 339: ['15728478'],\n",
              " 340: ['221057688'],\n",
              " 341: ['762642561949241300'],\n",
              " 342: ['48100522'],\n",
              " 343: ['2664413144'],\n",
              " 344: ['3096440288'],\n",
              " 345: ['1340752244'],\n",
              " 346: ['251721395'],\n",
              " 347: ['464553096'],\n",
              " 348: ['1046750396553654300'],\n",
              " 349: ['3472167252'],\n",
              " 350: ['24570874'],\n",
              " 351: ['26941995'],\n",
              " 352: ['17779075'],\n",
              " 353: ['805946973664804900'],\n",
              " 354: ['1371030726'],\n",
              " 355: ['1268580495870263300'],\n",
              " 356: ['398454140'],\n",
              " 357: ['1081639808521420800'],\n",
              " 358: ['307403985'],\n",
              " 359: ['1248997742577438700'],\n",
              " 360: ['1144417145180368900'],\n",
              " 361: ['3475172833'],\n",
              " 362: ['785794616'],\n",
              " 363: ['136643585'],\n",
              " 364: ['38731505'],\n",
              " 365: ['1118398913117995000'],\n",
              " 366: ['2690717251'],\n",
              " 367: ['1106718082653978600'],\n",
              " 368: ['2824488060'],\n",
              " 369: ['821284632780034000'],\n",
              " 370: ['908279588064821200'],\n",
              " 371: ['557362742'],\n",
              " 372: ['1383423498'],\n",
              " 373: ['472572851'],\n",
              " 374: ['41253329'],\n",
              " 375: ['726360661123420200'],\n",
              " 376: ['82616432'],\n",
              " 377: ['749690839798984700'],\n",
              " 378: ['756667245036568600'],\n",
              " 379: ['16664681', '34713362', '1238467680773894100', '807095', '7587032'],\n",
              " 380: ['735735904610848800'],\n",
              " 381: ['1178360596200411100'],\n",
              " 382: ['2465677148'],\n",
              " 383: ['3349581707'],\n",
              " 384: ['52452802'],\n",
              " 385: ['102844491'],\n",
              " 386: ['813471611068235800'],\n",
              " 387: ['798145390096724000'],\n",
              " 388: ['1156443520951115800'],\n",
              " 389: ['723479784261595100'],\n",
              " 390: ['782417208534298600'],\n",
              " 391: ['19423796'],\n",
              " 392: ['249236062'],\n",
              " 393: ['1220704818013991000'],\n",
              " 394: ['10585522'],\n",
              " 395: ['1170944596177608700'],\n",
              " 396: ['1484271950'],\n",
              " 397: ['782746510295531500'],\n",
              " 398: ['1257414801984311300'],\n",
              " 399: ['636856917'],\n",
              " 400: ['1688828635'],\n",
              " 401: ['1195228679812501500'],\n",
              " 402: ['1217868561806266400'],\n",
              " 403: ['154136730'],\n",
              " 404: ['879324494703317000'],\n",
              " 405: ['978697564907241500'],\n",
              " 406: ['1087415088582197200'],\n",
              " 407: ['54169948'],\n",
              " 408: ['781288694', '20729327'],\n",
              " 409: ['775326323480854500'],\n",
              " 410: ['37934216'],\n",
              " 411: ['708220566'],\n",
              " 412: ['349461217'],\n",
              " 413: ['755573801455321100'],\n",
              " 414: ['134865785'],\n",
              " 415: ['926142208712982500'],\n",
              " 416: ['1239184311544434700'],\n",
              " 417: ['2543982944', '1596829382'],\n",
              " 418: ['933225589879726100'],\n",
              " 419: ['388630090'],\n",
              " 420: ['1266877850801627100'],\n",
              " 421: ['236346971'],\n",
              " 422: ['1261682981493633000'],\n",
              " 423: ['957894982379044900'],\n",
              " 424: ['1240341980887969800'],\n",
              " 425: ['778424130760609800'],\n",
              " 426: ['701455694'],\n",
              " 427: ['1905026599'],\n",
              " 428: ['1133319947390574600'],\n",
              " 429: ['242180812'],\n",
              " 430: ['926694863927623700'],\n",
              " 431: ['190568910'],\n",
              " 432: ['1168310316851220500'],\n",
              " 433: ['1196923496451805200'],\n",
              " 434: ['761579343847927800'],\n",
              " 435: ['1208275209121235000'],\n",
              " 436: ['998860690063585300'],\n",
              " 437: ['4837967898'],\n",
              " 438: ['3302172288', '4650903031', '233737858'],\n",
              " 439: ['849674817766924300'],\n",
              " 440: ['637191934'],\n",
              " 441: ['758535091874361300'],\n",
              " 442: ['1879993920'],\n",
              " 443: ['986769056316321800'],\n",
              " 444: ['820501156707188700'],\n",
              " 445: ['885400906392580100'],\n",
              " 446: ['811315184392372200'],\n",
              " 447: ['1256976093640360000'],\n",
              " 448: ['1120232024260788200'],\n",
              " 449: ['1687379402'],\n",
              " 450: ['1605926761'],\n",
              " 451: ['2908698035'],\n",
              " 452: ['409603602'],\n",
              " 453: ['2867665913'],\n",
              " 454: ['809035737836453900'],\n",
              " 455: ['819369512906686500'],\n",
              " 456: ['47890215'],\n",
              " 457: ['261976703'],\n",
              " 458: ['725134710901489700'],\n",
              " 459: ['3382965057'],\n",
              " 460: ['3208239154'],\n",
              " 461: ['3384660861', '106504800'],\n",
              " 462: ['34055212'],\n",
              " 463: ['450915142'],\n",
              " 464: ['859783875064713200'],\n",
              " 465: ['725698214'],\n",
              " 466: ['2369054990'],\n",
              " 467: ['31029639'],\n",
              " 468: ['113322180'],\n",
              " 469: ['1236692350979752000'],\n",
              " 470: ['2463219044'],\n",
              " 471: ['1249996635268055000'],\n",
              " 472: ['965427453354172400'],\n",
              " 473: ['3306054630'],\n",
              " 474: ['3267788287'],\n",
              " 475: ['1243373011526463500'],\n",
              " 476: ['906972205787082800'],\n",
              " 477: ['1900272030'],\n",
              " 478: ['893999836927729700'],\n",
              " 479: ['1178019164687978500'],\n",
              " 480: ['1255600168503857200'],\n",
              " 481: ['157642831'],\n",
              " 482: ['718190806394355700'],\n",
              " 483: ['718226303254728700'],\n",
              " 484: ['1238844477294489600'],\n",
              " 485: ['831557692124708900'],\n",
              " 486: ['271646054'],\n",
              " 487: ['1071584956189536300'],\n",
              " 488: ['346163735'],\n",
              " 489: ['2942626532'],\n",
              " 490: ['387265077'],\n",
              " 491: ['200044482'],\n",
              " 492: ['34943006'],\n",
              " 493: ['3183968258'],\n",
              " 494: ['3313852451'],\n",
              " 495: ['1186630127679164400'],\n",
              " 496: ['234478133'],\n",
              " 497: ['715105507'],\n",
              " 498: ['1266685692429529000'],\n",
              " 499: ['199163602'],\n",
              " 500: ['1187554204224589800'],\n",
              " 501: ['955111128564199400'],\n",
              " 502: ['19539923'],\n",
              " 503: ['347947366'],\n",
              " 504: ['953350681586552800'],\n",
              " 505: ['1242900624686997500'],\n",
              " 506: ['1234186320102219800'],\n",
              " 507: ['1884183840'],\n",
              " 508: ['114954534'],\n",
              " 509: ['977177708638691300'],\n",
              " 510: ['393280581'],\n",
              " 511: ['981514748171710500'],\n",
              " 512: ['898595706449133600'],\n",
              " 513: ['838275089036607500'],\n",
              " 514: ['538608797'],\n",
              " 515: ['1087746309107474400'],\n",
              " 516: ['3159516600'],\n",
              " 517: ['2389133500'],\n",
              " 518: ['571301847'],\n",
              " 519: ['4816804669'],\n",
              " 520: ['1096639116010184700'],\n",
              " 521: ['3296697233'],\n",
              " 522: ['1202542320249376800'],\n",
              " 523: ['17064866'],\n",
              " 524: ['509163189'],\n",
              " 525: ['726573663835680800'],\n",
              " 526: ['2385367172'],\n",
              " 527: ['1163458152970408000'],\n",
              " 528: ['820241528'],\n",
              " 529: ['816479859006459900'],\n",
              " 530: ['776768043217072100'],\n",
              " 531: ['988720384559210500'],\n",
              " 532: ['3253781174',\n",
              "  '1009761419800334300',\n",
              "  '899570160507404300',\n",
              "  '718030198495510500',\n",
              "  '2713937910'],\n",
              " 533: ['1093442921913823200'],\n",
              " 534: ['368613356'],\n",
              " 535: ['825568519374790700'],\n",
              " 536: ['1010622604804120600'],\n",
              " 537: ['156589008'],\n",
              " 538: ['2283745879'],\n",
              " 539: ['1049748017375563800'],\n",
              " 540: ['296502319'],\n",
              " 541: ['4703173332', '1937706380', '3903318556'],\n",
              " 542: ['387405957'],\n",
              " 543: ['1179401058474291200'],\n",
              " 544: ['1094322369190088700'],\n",
              " 545: ['9335592'],\n",
              " 546: ['799437474242117600'],\n",
              " 547: ['776840037518508000'],\n",
              " 548: ['3591429984'],\n",
              " 549: ['247151723', '4086538637', '613556386'],\n",
              " 550: ['1261647293595320300'],\n",
              " 551: ['1729758474'],\n",
              " 552: ['145172566'],\n",
              " 553: ['3108631759'],\n",
              " 554: ['404733331'],\n",
              " 555: ['3126162236'],\n",
              " 556: ['833786269842944000'],\n",
              " 557: ['825765275853344800'],\n",
              " 558: ['595341417'],\n",
              " 559: ['889516847309213700'],\n",
              " 560: ['2572293977'],\n",
              " 561: ['768152130280493000'],\n",
              " 562: ['1010063371406721000'],\n",
              " 563: ['3123523392'],\n",
              " 564: ['50691286'],\n",
              " 565: ['133792424'],\n",
              " 566: ['1049967566',\n",
              "  '711048623866286100',\n",
              "  '1226454737542930400',\n",
              "  '1206361438178070500',\n",
              "  '139283160'],\n",
              " 567: ['1255577288223019000'],\n",
              " 568: ['436200556'],\n",
              " 569: ['1070030507843485700'],\n",
              " 570: ['29820769'],\n",
              " 571: ['542816422'],\n",
              " 572: ['726887027963232300'],\n",
              " 573: ['927098717332758500'],\n",
              " 574: ['715804091922968600'],\n",
              " 575: ['1050072720279564300'],\n",
              " 576: ['798305099634409500'],\n",
              " 577: ['3349406315'],\n",
              " 578: ['26787994'],\n",
              " 579: ['319576745'],\n",
              " 580: ['2813897314'],\n",
              " 581: ['175832470'],\n",
              " 582: ['814697299481940000'],\n",
              " 583: ['879711010361405400'],\n",
              " 584: ['948173256657268700'],\n",
              " 585: ['1049345996990414800'],\n",
              " 586: ['1246099626689572900'],\n",
              " 587: ['1265291308286898200'],\n",
              " 588: ['1221318354046111700'],\n",
              " 589: ['817734120411435000'],\n",
              " 590: ['231889529'],\n",
              " 591: ['316033600'],\n",
              " 592: ['1131651074337726500'],\n",
              " 593: ['761010646821601300'],\n",
              " 594: ['1106320663139287000'],\n",
              " 595: ['1242318526112624600'],\n",
              " 596: ['4594881679'],\n",
              " 597: ['903955081732567000'],\n",
              " 598: ['1037363240'],\n",
              " 599: ['716435954118950900'],\n",
              " 600: ['843672074732421100'],\n",
              " 601: ['1097236787326419000'],\n",
              " 602: ['3078212376'],\n",
              " 603: ['951017149060939800'],\n",
              " 604: ['1244250671077081000'],\n",
              " 605: ['18606398'],\n",
              " 606: ['117366399'],\n",
              " 607: ['3844309043'],\n",
              " 608: ['4775889830'],\n",
              " 609: ['2542014542'],\n",
              " 610: ['792763367748464600'],\n",
              " 611: ['898014703204655100'],\n",
              " 612: ['1101712949146730500'],\n",
              " 613: ['20776432'],\n",
              " 614: ['163446541'],\n",
              " 615: ['155506675'],\n",
              " 616: ['231854146'],\n",
              " 617: ['2584865090'],\n",
              " 618: ['613236403'],\n",
              " 619: ['1163954352110919700'],\n",
              " 620: ['1240781160273391600'],\n",
              " 621: ['596758456'],\n",
              " 622: ['920154038', '793337247730954200', '35039490'],\n",
              " 623: ['2515177453'],\n",
              " 624: ['2541352994'],\n",
              " 625: ['54681762'],\n",
              " 626: ['725309224213987300'],\n",
              " 627: ['973594964734099500'],\n",
              " 628: ['2269640754'],\n",
              " 629: ['1211648405207781400'],\n",
              " 630: ['17078685'],\n",
              " 631: ['2273871980'],\n",
              " 632: ['1161671505018794000'],\n",
              " 633: ['110704687'],\n",
              " 634: ['980072137657532400'],\n",
              " 635: ['781184209645871100'],\n",
              " 636: ['1220074144303325200'],\n",
              " 637: ['768189510953738200'],\n",
              " 638: ['1951870741'],\n",
              " 639: ['3112067812'],\n",
              " 640: ['188994700'],\n",
              " 641: ['761717977582403600'],\n",
              " 642: ['1259103255063408600'],\n",
              " 643: ['855927782437781500'],\n",
              " 644: ['17217548'],\n",
              " 645: ['23446778'],\n",
              " 646: ['23344209'],\n",
              " 647: ['853548272'],\n",
              " 648: ['371566251'],\n",
              " 649: ['3363855767'],\n",
              " 650: ['1150842252543090700'],\n",
              " 651: ['345019341',\n",
              "  '536615771',\n",
              "  '50132544',\n",
              "  '1192871201108103200',\n",
              "  '334715818'],\n",
              " 652: ['565080423'],\n",
              " 653: ['720041843463819300'],\n",
              " 654: ['633583901'],\n",
              " 655: ['1150860862426628100'],\n",
              " 656: ['16533820'],\n",
              " 657: ['718150263253635100'],\n",
              " 658: ['19430583'],\n",
              " 659: ['1009207962722848800'],\n",
              " 660: ['2704084162'],\n",
              " 661: ['28473179'],\n",
              " 662: ['17608561'],\n",
              " 663: ['1224369829148274700'],\n",
              " 664: ['808809944296390700'],\n",
              " 665: ['34929519'],\n",
              " 666: ['233457509'],\n",
              " 667: ['1225127915328807000'],\n",
              " 668: ['823616887724458000'],\n",
              " 669: ['962412480'],\n",
              " 670: ['1388628967'],\n",
              " 671: ['996853301181231100'],\n",
              " 672: ['1271957246'],\n",
              " 673: ['900820045'],\n",
              " 674: ['1257109172547534800'],\n",
              " 675: ['1259732636349591600'],\n",
              " 676: ['253299586'],\n",
              " 677: ['82505803'],\n",
              " 678: ['993245781539909600'],\n",
              " 679: ['3351969635'],\n",
              " 680: ['634770792'],\n",
              " 681: ['1049946677539467300'],\n",
              " 682: ['1167850671871123500'],\n",
              " 683: ['82668140'],\n",
              " 684: ['885729027238932500'],\n",
              " 685: ['472894609'],\n",
              " 686: ['358022208'],\n",
              " 687: ['2834655980'],\n",
              " 688: ['732811680'],\n",
              " 689: ['232940382'],\n",
              " 690: ['938487085178216400'],\n",
              " 691: ['3236573665'],\n",
              " 692: ['376764799', '4849494053'],\n",
              " 693: ['2984465277'],\n",
              " 694: ['1262452578899591200'],\n",
              " 695: ['755655342365761500'],\n",
              " 696: ['1257202840092606500'],\n",
              " 697: ['545663171'],\n",
              " 698: ['817515436610875400'],\n",
              " 699: ['737930995303911400'],\n",
              " 700: ['969035595803750400'],\n",
              " 701: ['2195241'],\n",
              " 702: ['41657773'],\n",
              " 703: ['833317944'],\n",
              " 704: ['429429068'],\n",
              " 705: ['49377348'],\n",
              " 706: ['818140789519843300'],\n",
              " 707: ['2588510510'],\n",
              " 708: ['24311562'],\n",
              " 709: ['21117425'],\n",
              " 710: ['1151072870715600900'],\n",
              " 711: ['2275457538'],\n",
              " 712: ['864914560712671200'],\n",
              " 713: ['816877831498203100'],\n",
              " 714: ['1229416252059213800'],\n",
              " 715: ['276679044'],\n",
              " 716: ['2310714194'],\n",
              " 717: ['2311014656'],\n",
              " 718: ['987283253278191600'],\n",
              " 719: ['1046173088805736400'],\n",
              " 720: ['25912403', '17888709', '71977357'],\n",
              " 721: ['3231453224'],\n",
              " 722: ['2372006013'],\n",
              " 723: ['469949985'],\n",
              " 724: ['244168348'],\n",
              " 725: ['82934183'],\n",
              " 726: ['135527532'],\n",
              " 727: ['798772006095179800'],\n",
              " 728: ['137668427'],\n",
              " 729: ['40826248'],\n",
              " 730: ['1154229232630927400'],\n",
              " 731: ['4854063353'],\n",
              " 732: ['415323294'],\n",
              " 733: ['23708734'],\n",
              " 734: ['3299945004'],\n",
              " 735: ['1041352052'],\n",
              " 736: ['284285972'],\n",
              " 737: ['245228514', '211888286'],\n",
              " 738: ['1939461594'],\n",
              " 739: ['1248489990360674300'],\n",
              " 740: ['1340965692'],\n",
              " 741: ['919969358432034800'],\n",
              " 742: ['1010965937762308100'],\n",
              " 743: ['115714427'],\n",
              " 744: ['268406043'],\n",
              " 745: ['754515380966531100'],\n",
              " 746: ['1221079070261358600'],\n",
              " 747: ['1084467199723667500'],\n",
              " 748: ['890317825969180700'],\n",
              " 749: ['305623244'],\n",
              " 750: ['32916187'],\n",
              " 751: ['159408584'],\n",
              " 752: ['1238168258202742800'],\n",
              " 753: ['3123148220'],\n",
              " 754: ['193965277'],\n",
              " 755: ['337481472'],\n",
              " 756: ['915328951140175900'],\n",
              " 757: ['718777608943439900'],\n",
              " 758: ['620737275'],\n",
              " 759: ['72077090'],\n",
              " 760: ['159235547'],\n",
              " 761: ['248885239'],\n",
              " 762: ['750985594080297000'],\n",
              " 763: ['382800127'],\n",
              " 764: ['288147529'],\n",
              " 765: ['347365317'],\n",
              " 766: ['563110569'],\n",
              " 767: ['823833469486846000'],\n",
              " 768: ['780576546264186900'],\n",
              " 769: ['62200909'],\n",
              " 770: ['4465802892'],\n",
              " 771: ['3154997494'],\n",
              " 772: ['347298683'],\n",
              " 773: ['902131160188207100'],\n",
              " 774: ['2343936058'],\n",
              " 775: ['1040378246'],\n",
              " 776: ['823942506635202600'],\n",
              " 777: ['1044613969535733800'],\n",
              " 778: ['1162560190148989000'],\n",
              " 779: ['931000562'],\n",
              " 780: ['3092453105'],\n",
              " 781: ['1048946590910767100'],\n",
              " 782: ['1268016995645128700'],\n",
              " 783: ['1098085943171534800'],\n",
              " 784: ['143772653'],\n",
              " 785: ['25739681'],\n",
              " 786: ['1254114265465643000'],\n",
              " 787: ['1184079350800494600'],\n",
              " 788: ['4041910522'],\n",
              " 789: ['184645405'],\n",
              " 790: ['322210627'],\n",
              " 791: ['1092916808'],\n",
              " 792: ['206841211'],\n",
              " 793: ['732358662044274700'],\n",
              " 794: ['348113898'],\n",
              " 795: ['2358571848'],\n",
              " 796: ['733487943982010400'],\n",
              " 797: ['63144098'],\n",
              " 798: ['4832329984'],\n",
              " 799: ['371542398'],\n",
              " 800: ['29731650'],\n",
              " 801: ['365666074'],\n",
              " 802: ['20653688'],\n",
              " 803: ['784456753'],\n",
              " 804: ['991440519908618200'],\n",
              " 805: ['1135955945450823700'],\n",
              " 806: ['167153137'],\n",
              " 807: ['1009648109901832200'],\n",
              " 808: ['1215975330336444400'],\n",
              " 809: ['2472440202'],\n",
              " 810: ['386017332'],\n",
              " 811: ['1268855640'],\n",
              " 812: ['1248448364129198000'],\n",
              " 813: ['1256851036372971500'],\n",
              " 814: ['161149205'],\n",
              " 815: ['255584407'],\n",
              " 816: ['964030182582448100'],\n",
              " 817: ['3241870726'],\n",
              " 818: ['828004013740277800'],\n",
              " 819: ['3896254753'],\n",
              " 820: ['127507942'],\n",
              " 821: ['1187426146633207800'],\n",
              " 822: ['1088161150234124300'],\n",
              " 823: ['898013169024614400'],\n",
              " 824: ['4704903234'],\n",
              " 825: ['2218051490'],\n",
              " 826: ['1129763765782765600'],\n",
              " 827: ['4277517496'],\n",
              " 828: ['56948655'],\n",
              " 829: ['1154765802048041000'],\n",
              " 830: ['2252571438'],\n",
              " 831: ['216818066'],\n",
              " 832: ['1170270253818892300'],\n",
              " 833: ['519152293'],\n",
              " 834: ['550412089'],\n",
              " 835: ['779909538937987100'],\n",
              " 836: ['1203958873046028300'],\n",
              " 837: ['395699126'],\n",
              " 838: ['289871820'],\n",
              " 839: ['295776000'],\n",
              " 840: ['3303390671'],\n",
              " 841: ['1104463949599264800'],\n",
              " 842: ['91865200'],\n",
              " 843: ['17732433'],\n",
              " 844: ['1168379594598047700'],\n",
              " 845: ['27029737'],\n",
              " 846: ['220632198'],\n",
              " 847: ['1044707180170158100'],\n",
              " 848: ['3409076836'],\n",
              " 849: ['1029922382721568800'],\n",
              " 850: ['956585214884577300'],\n",
              " 851: ['64300871'],\n",
              " 852: ['938193422720143400'],\n",
              " 853: ['1690537518'],\n",
              " 854: ['1628705161'],\n",
              " 855: ['4519046540'],\n",
              " 856: ['1433691726'],\n",
              " 857: ['1085947384960610300'],\n",
              " 858: ['729049641669546000'],\n",
              " 859: ['903521083'],\n",
              " 860: ['1241396888970158000', '535643852'],\n",
              " 861: ['1177992694091501600'],\n",
              " 862: ['899074362'],\n",
              " 863: ['862759257346895900'],\n",
              " 864: ['3141975123'],\n",
              " 865: ['1169868225670070300'],\n",
              " 866: ['1639606686'],\n",
              " 867: ['2879387363'],\n",
              " 868: ['284811221'],\n",
              " 869: ['2677180819'],\n",
              " 870: ['877585589230489600'],\n",
              " 871: ['1246441434003067000'],\n",
              " 872: ['1175995717044715500'],\n",
              " 873: ['2531305266'],\n",
              " 874: ['798442902'],\n",
              " 875: ['31813795'],\n",
              " 876: ['619338166', '15196454'],\n",
              " 877: ['783487937761640400'],\n",
              " 878: ['760587322085691400'],\n",
              " 879: ['1074257704506425300'],\n",
              " 880: ['88341381'],\n",
              " 881: ['4029298692'],\n",
              " 882: ['1259886024748077000'],\n",
              " 883: ['995649262368186400'],\n",
              " 884: ['1129812268663935000'],\n",
              " 885: ['54326070'],\n",
              " 886: ['18194950'],\n",
              " 887: ['822584376143872000'],\n",
              " 888: ['20146800'],\n",
              " 889: ['220727747'],\n",
              " 890: ['1268761203326750700'],\n",
              " 891: ['2830593937'],\n",
              " 892: ['734072867143462900'],\n",
              " 893: ['4857950085'],\n",
              " 894: ['912179231253135400'],\n",
              " 895: ['36502283'],\n",
              " 896: ['1103255985425080300', '2613726861', '331078499', '102268884'],\n",
              " 897: ['1246007493278326800'],\n",
              " 898: ['899511160751259600'],\n",
              " 899: ['3003589092'],\n",
              " 900: ['927599507138850800'],\n",
              " 901: ['62698661'],\n",
              " 902: ['3028761820'],\n",
              " 903: ['867157331494268900'],\n",
              " 904: ['314767345'],\n",
              " 905: ['129562099'],\n",
              " 906: ['247393809'],\n",
              " 907: ['1042685429609377800'],\n",
              " 908: ['4180433547'],\n",
              " 909: ['2374613922'],\n",
              " 910: ['305986390'],\n",
              " 911: ['1897131992'],\n",
              " 912: ['52207960'],\n",
              " 913: ['2796491960', '584069282'],\n",
              " 914: ['860698718'],\n",
              " 915: ['842471588'],\n",
              " 916: ['880536544288940000'],\n",
              " 917: ['964463690'],\n",
              " 918: ['258894570'],\n",
              " 919: ['4498097607'],\n",
              " 920: ['2523347540'],\n",
              " 921: ['1244706336409112600'],\n",
              " 922: ['220361898'],\n",
              " 923: ['834393676373704700'],\n",
              " 924: ['2847561603'],\n",
              " 925: ['54694077'],\n",
              " 926: ['766431397'],\n",
              " 927: ['1164862314539081700'],\n",
              " 928: ['44285908'],\n",
              " 929: ['23241302'],\n",
              " 930: ['819991656883634200'],\n",
              " 931: ['1078964429428011000'],\n",
              " 932: ['1203497076602130400'],\n",
              " 933: ['990237785956241400'],\n",
              " 934: ['1709542927'],\n",
              " 935: ['1010355278817251300'],\n",
              " 936: ['1137389504803688400'],\n",
              " 937: ['1190986640220676000'],\n",
              " 938: ['44864808'],\n",
              " 939: ['3037278951'],\n",
              " 940: ['2355521964'],\n",
              " 941: ['16472781'],\n",
              " 942: ['707516858279198700'],\n",
              " 943: ['1243552752770396200'],\n",
              " 944: ['831725057361600500'],\n",
              " 945: ['1866939121'],\n",
              " 946: ['1212737870269567000'],\n",
              " 947: ['44685332'],\n",
              " 948: ['817469397732388900'],\n",
              " 949: ['531477359'],\n",
              " 950: ['816403743491006500'],\n",
              " 951: ['219237800'],\n",
              " 952: ['278605576'],\n",
              " 953: ['121799974'],\n",
              " 954: ['28660025'],\n",
              " 955: ['934991333080498200'],\n",
              " 956: ['44700030'],\n",
              " 957: ['205202634'],\n",
              " 958: ['2174983842'],\n",
              " 959: ['877982847109394400'],\n",
              " 960: ['1222176304952414200'],\n",
              " 961: ['854481307'],\n",
              " 962: ['2832460410'],\n",
              " 963: ['1100149247759077400'],\n",
              " 964: ['1182304086911262700'],\n",
              " 965: ['934368809737117700'],\n",
              " 966: ['920824234439512000'],\n",
              " 967: ['1191155683179344000'],\n",
              " 968: ['598704613'],\n",
              " 969: ['152946111'],\n",
              " 970: ['1192368843156533200'],\n",
              " 971: ['889445305862705200'],\n",
              " 972: ['82894463'],\n",
              " 973: ['232416417'],\n",
              " 974: ['1265222181329473500'],\n",
              " 975: ['389214532'],\n",
              " 976: ['1095999942'],\n",
              " 977: ['998257812122693600'],\n",
              " 978: ['1087661081177268200'],\n",
              " 979: ['1061099579754639400'],\n",
              " 980: ['1065906189299413000'],\n",
              " 981: ['311703337'],\n",
              " 982: ['1579200049'],\n",
              " 983: ['825689851525787600'],\n",
              " 984: ['3302742120'],\n",
              " 985: ['1541731422'],\n",
              " 986: ['14357454'],\n",
              " 987: ['272523626'],\n",
              " 988: ['2719155392'],\n",
              " 989: ['150591997'],\n",
              " 990: ['826420632619511800'],\n",
              " 991: ['990806730'],\n",
              " 992: ['829165024048406500'],\n",
              " 993: ['309731621'],\n",
              " 994: ['1260902311217561600'],\n",
              " 995: ['238711743'],\n",
              " 996: ['1189675506674884600'],\n",
              " 997: ['377240272'],\n",
              " 998: ['1132608044121100300'],\n",
              " 999: ['800954224909619200'],\n",
              " ...}"
            ]
          },
          "metadata": {
            "tags": []
          },
          "execution_count": 18
        }
      ]
    },
    {
      "cell_type": "code",
      "metadata": {
        "colab": {
          "base_uri": "https://localhost:8080/",
          "height": 426
        },
        "id": "g5Apf-9hrqiT",
        "outputId": "a382a446-e89a-461c-f823-5156ab395e0d"
      },
      "source": [
        "partition_2 = community.generate_dendrogram(sample_weekly_graph.to_undirected())\n",
        "# communities_2 = set(partition_2.values())\n",
        "for level in range(len(partition_2) - 1) :\n",
        "  communities_2 = set(community.partition_at_level(partition_2, level).values())\n",
        "  # Create a dictionary mapping community number to nodes within that community\n",
        "  communities_dict_2 = {c: [k for k, v in community.partition_at_level(partition_2, level).items() if v == c] for c in communities_2}\n",
        "  highest_degree = {k: sorted(v, key=lambda x: sample_weekly_graph.degree(x))[-5:] for k, v in communities_dict_2.items()}\n",
        "#     print(\"partition at level\", level,\n",
        "#           \"is\", community.partition_at_level(partition_2, level))\n",
        "\n",
        "\n",
        "# Filter that dictionary to map to first sort the nodes in the community by degree, then take the top 5.\n",
        "# highest_degree = {k: sorted(v, key=lambda x: sample_weekly_graph.degree(x))[-5:] for k, v in communities_dict_2.items()}"
      ],
      "execution_count": null,
      "outputs": [
        {
          "output_type": "error",
          "ename": "KeyboardInterrupt",
          "evalue": "ignored",
          "traceback": [
            "\u001b[0;31m---------------------------------------------------------------------------\u001b[0m",
            "\u001b[0;31mKeyboardInterrupt\u001b[0m                         Traceback (most recent call last)",
            "\u001b[0;32m<ipython-input-25-dc6311a86b87>\u001b[0m in \u001b[0;36m<module>\u001b[0;34m()\u001b[0m\n\u001b[1;32m      4\u001b[0m   \u001b[0mcommunities_2\u001b[0m \u001b[0;34m=\u001b[0m \u001b[0mset\u001b[0m\u001b[0;34m(\u001b[0m\u001b[0mcommunity\u001b[0m\u001b[0;34m.\u001b[0m\u001b[0mpartition_at_level\u001b[0m\u001b[0;34m(\u001b[0m\u001b[0mpartition_2\u001b[0m\u001b[0;34m,\u001b[0m \u001b[0mlevel\u001b[0m\u001b[0;34m)\u001b[0m\u001b[0;34m.\u001b[0m\u001b[0mvalues\u001b[0m\u001b[0;34m(\u001b[0m\u001b[0;34m)\u001b[0m\u001b[0;34m)\u001b[0m\u001b[0;34m\u001b[0m\u001b[0;34m\u001b[0m\u001b[0m\n\u001b[1;32m      5\u001b[0m   \u001b[0;31m# Create a dictionary mapping community number to nodes within that community\u001b[0m\u001b[0;34m\u001b[0m\u001b[0;34m\u001b[0m\u001b[0;34m\u001b[0m\u001b[0m\n\u001b[0;32m----> 6\u001b[0;31m   \u001b[0mcommunities_dict_2\u001b[0m \u001b[0;34m=\u001b[0m \u001b[0;34m{\u001b[0m\u001b[0mc\u001b[0m\u001b[0;34m:\u001b[0m \u001b[0;34m[\u001b[0m\u001b[0mk\u001b[0m \u001b[0;32mfor\u001b[0m \u001b[0mk\u001b[0m\u001b[0;34m,\u001b[0m \u001b[0mv\u001b[0m \u001b[0;32min\u001b[0m \u001b[0mcommunity\u001b[0m\u001b[0;34m.\u001b[0m\u001b[0mpartition_at_level\u001b[0m\u001b[0;34m(\u001b[0m\u001b[0mpartition_2\u001b[0m\u001b[0;34m,\u001b[0m \u001b[0mlevel\u001b[0m\u001b[0;34m)\u001b[0m\u001b[0;34m.\u001b[0m\u001b[0mitems\u001b[0m\u001b[0;34m(\u001b[0m\u001b[0;34m)\u001b[0m \u001b[0;32mif\u001b[0m \u001b[0mv\u001b[0m \u001b[0;34m==\u001b[0m \u001b[0mc\u001b[0m\u001b[0;34m]\u001b[0m \u001b[0;32mfor\u001b[0m \u001b[0mc\u001b[0m \u001b[0;32min\u001b[0m \u001b[0mcommunities_2\u001b[0m\u001b[0;34m}\u001b[0m\u001b[0;34m\u001b[0m\u001b[0;34m\u001b[0m\u001b[0m\n\u001b[0m\u001b[1;32m      7\u001b[0m   \u001b[0mhighest_degree\u001b[0m \u001b[0;34m=\u001b[0m \u001b[0;34m{\u001b[0m\u001b[0mk\u001b[0m\u001b[0;34m:\u001b[0m \u001b[0msorted\u001b[0m\u001b[0;34m(\u001b[0m\u001b[0mv\u001b[0m\u001b[0;34m,\u001b[0m \u001b[0mkey\u001b[0m\u001b[0;34m=\u001b[0m\u001b[0;32mlambda\u001b[0m \u001b[0mx\u001b[0m\u001b[0;34m:\u001b[0m \u001b[0msample_weekly_graph\u001b[0m\u001b[0;34m.\u001b[0m\u001b[0mdegree\u001b[0m\u001b[0;34m(\u001b[0m\u001b[0mx\u001b[0m\u001b[0;34m)\u001b[0m\u001b[0;34m)\u001b[0m\u001b[0;34m[\u001b[0m\u001b[0;34m-\u001b[0m\u001b[0;36m5\u001b[0m\u001b[0;34m:\u001b[0m\u001b[0;34m]\u001b[0m \u001b[0;32mfor\u001b[0m \u001b[0mk\u001b[0m\u001b[0;34m,\u001b[0m \u001b[0mv\u001b[0m \u001b[0;32min\u001b[0m \u001b[0mcommunities_dict_2\u001b[0m\u001b[0;34m.\u001b[0m\u001b[0mitems\u001b[0m\u001b[0;34m(\u001b[0m\u001b[0;34m)\u001b[0m\u001b[0;34m}\u001b[0m\u001b[0;34m\u001b[0m\u001b[0;34m\u001b[0m\u001b[0m\n\u001b[1;32m      8\u001b[0m \u001b[0;31m#     print(\"partition at level\", level,\u001b[0m\u001b[0;34m\u001b[0m\u001b[0;34m\u001b[0m\u001b[0;34m\u001b[0m\u001b[0m\n",
            "\u001b[0;32m<ipython-input-25-dc6311a86b87>\u001b[0m in \u001b[0;36m<dictcomp>\u001b[0;34m(.0)\u001b[0m\n\u001b[1;32m      4\u001b[0m   \u001b[0mcommunities_2\u001b[0m \u001b[0;34m=\u001b[0m \u001b[0mset\u001b[0m\u001b[0;34m(\u001b[0m\u001b[0mcommunity\u001b[0m\u001b[0;34m.\u001b[0m\u001b[0mpartition_at_level\u001b[0m\u001b[0;34m(\u001b[0m\u001b[0mpartition_2\u001b[0m\u001b[0;34m,\u001b[0m \u001b[0mlevel\u001b[0m\u001b[0;34m)\u001b[0m\u001b[0;34m.\u001b[0m\u001b[0mvalues\u001b[0m\u001b[0;34m(\u001b[0m\u001b[0;34m)\u001b[0m\u001b[0;34m)\u001b[0m\u001b[0;34m\u001b[0m\u001b[0;34m\u001b[0m\u001b[0m\n\u001b[1;32m      5\u001b[0m   \u001b[0;31m# Create a dictionary mapping community number to nodes within that community\u001b[0m\u001b[0;34m\u001b[0m\u001b[0;34m\u001b[0m\u001b[0;34m\u001b[0m\u001b[0m\n\u001b[0;32m----> 6\u001b[0;31m   \u001b[0mcommunities_dict_2\u001b[0m \u001b[0;34m=\u001b[0m \u001b[0;34m{\u001b[0m\u001b[0mc\u001b[0m\u001b[0;34m:\u001b[0m \u001b[0;34m[\u001b[0m\u001b[0mk\u001b[0m \u001b[0;32mfor\u001b[0m \u001b[0mk\u001b[0m\u001b[0;34m,\u001b[0m \u001b[0mv\u001b[0m \u001b[0;32min\u001b[0m \u001b[0mcommunity\u001b[0m\u001b[0;34m.\u001b[0m\u001b[0mpartition_at_level\u001b[0m\u001b[0;34m(\u001b[0m\u001b[0mpartition_2\u001b[0m\u001b[0;34m,\u001b[0m \u001b[0mlevel\u001b[0m\u001b[0;34m)\u001b[0m\u001b[0;34m.\u001b[0m\u001b[0mitems\u001b[0m\u001b[0;34m(\u001b[0m\u001b[0;34m)\u001b[0m \u001b[0;32mif\u001b[0m \u001b[0mv\u001b[0m \u001b[0;34m==\u001b[0m \u001b[0mc\u001b[0m\u001b[0;34m]\u001b[0m \u001b[0;32mfor\u001b[0m \u001b[0mc\u001b[0m \u001b[0;32min\u001b[0m \u001b[0mcommunities_2\u001b[0m\u001b[0;34m}\u001b[0m\u001b[0;34m\u001b[0m\u001b[0;34m\u001b[0m\u001b[0m\n\u001b[0m\u001b[1;32m      7\u001b[0m   \u001b[0mhighest_degree\u001b[0m \u001b[0;34m=\u001b[0m \u001b[0;34m{\u001b[0m\u001b[0mk\u001b[0m\u001b[0;34m:\u001b[0m \u001b[0msorted\u001b[0m\u001b[0;34m(\u001b[0m\u001b[0mv\u001b[0m\u001b[0;34m,\u001b[0m \u001b[0mkey\u001b[0m\u001b[0;34m=\u001b[0m\u001b[0;32mlambda\u001b[0m \u001b[0mx\u001b[0m\u001b[0;34m:\u001b[0m \u001b[0msample_weekly_graph\u001b[0m\u001b[0;34m.\u001b[0m\u001b[0mdegree\u001b[0m\u001b[0;34m(\u001b[0m\u001b[0mx\u001b[0m\u001b[0;34m)\u001b[0m\u001b[0;34m)\u001b[0m\u001b[0;34m[\u001b[0m\u001b[0;34m-\u001b[0m\u001b[0;36m5\u001b[0m\u001b[0;34m:\u001b[0m\u001b[0;34m]\u001b[0m \u001b[0;32mfor\u001b[0m \u001b[0mk\u001b[0m\u001b[0;34m,\u001b[0m \u001b[0mv\u001b[0m \u001b[0;32min\u001b[0m \u001b[0mcommunities_dict_2\u001b[0m\u001b[0;34m.\u001b[0m\u001b[0mitems\u001b[0m\u001b[0;34m(\u001b[0m\u001b[0;34m)\u001b[0m\u001b[0;34m}\u001b[0m\u001b[0;34m\u001b[0m\u001b[0;34m\u001b[0m\u001b[0m\n\u001b[1;32m      8\u001b[0m \u001b[0;31m#     print(\"partition at level\", level,\u001b[0m\u001b[0;34m\u001b[0m\u001b[0;34m\u001b[0m\u001b[0;34m\u001b[0m\u001b[0m\n",
            "\u001b[0;32m/usr/local/lib/python3.6/dist-packages/community/community_louvain.py\u001b[0m in \u001b[0;36mpartition_at_level\u001b[0;34m(dendrogram, level)\u001b[0m\n\u001b[1;32m     89\u001b[0m     \u001b[0;32mfor\u001b[0m \u001b[0mindex\u001b[0m \u001b[0;32min\u001b[0m \u001b[0mrange\u001b[0m\u001b[0;34m(\u001b[0m\u001b[0;36m1\u001b[0m\u001b[0;34m,\u001b[0m \u001b[0mlevel\u001b[0m \u001b[0;34m+\u001b[0m \u001b[0;36m1\u001b[0m\u001b[0;34m)\u001b[0m\u001b[0;34m:\u001b[0m\u001b[0;34m\u001b[0m\u001b[0;34m\u001b[0m\u001b[0m\n\u001b[1;32m     90\u001b[0m         \u001b[0;32mfor\u001b[0m \u001b[0mnode\u001b[0m\u001b[0;34m,\u001b[0m \u001b[0mcommunity\u001b[0m \u001b[0;32min\u001b[0m \u001b[0mpartition\u001b[0m\u001b[0;34m.\u001b[0m\u001b[0mitems\u001b[0m\u001b[0;34m(\u001b[0m\u001b[0;34m)\u001b[0m\u001b[0;34m:\u001b[0m\u001b[0;34m\u001b[0m\u001b[0;34m\u001b[0m\u001b[0m\n\u001b[0;32m---> 91\u001b[0;31m             \u001b[0mpartition\u001b[0m\u001b[0;34m[\u001b[0m\u001b[0mnode\u001b[0m\u001b[0;34m]\u001b[0m \u001b[0;34m=\u001b[0m \u001b[0mdendrogram\u001b[0m\u001b[0;34m[\u001b[0m\u001b[0mindex\u001b[0m\u001b[0;34m]\u001b[0m\u001b[0;34m[\u001b[0m\u001b[0mcommunity\u001b[0m\u001b[0;34m]\u001b[0m\u001b[0;34m\u001b[0m\u001b[0;34m\u001b[0m\u001b[0m\n\u001b[0m\u001b[1;32m     92\u001b[0m     \u001b[0;32mreturn\u001b[0m \u001b[0mpartition\u001b[0m\u001b[0;34m\u001b[0m\u001b[0;34m\u001b[0m\u001b[0m\n\u001b[1;32m     93\u001b[0m \u001b[0;34m\u001b[0m\u001b[0m\n",
            "\u001b[0;31mKeyboardInterrupt\u001b[0m: "
          ]
        }
      ]
    },
    {
      "cell_type": "markdown",
      "metadata": {
        "id": "VRDv0GnKVaBc"
      },
      "source": [
        "## Write Labels For Pro-/Anti-Mask Classification\n",
        "\n"
      ]
    },
    {
      "cell_type": "code",
      "metadata": {
        "id": "NMSa_fW0X3Py"
      },
      "source": [
        "def hashtags_to_list(weekly_df):\n",
        "  new_hashtag_col = []\n",
        "  for index, row in weekly_df.iterrows():\n",
        "    new_hashtags = []\n",
        "    hashtags = row['hashtags']\n",
        "    if type(hashtags) is str:\n",
        "      hashtag_list = hashtags.strip('][').split('\\'')\n",
        "      for i in range(len(hashtag_list)):\n",
        "        if hashtag_list[i] == 'text':\n",
        "          hashtag = hashtag_list[i+2]\n",
        "          new_hashtags.append(hashtag)\n",
        "      new_hashtag_col.append(new_hashtags)\n",
        "    else: return weekly_df['hashtags']\n",
        "  return new_hashtag_col"
      ],
      "execution_count": null,
      "outputs": []
    },
    {
      "cell_type": "code",
      "metadata": {
        "colab": {
          "base_uri": "https://localhost:8080/"
        },
        "id": "MlXW3oVMQK_D",
        "outputId": "47332d65-c37b-4065-980b-b913d17a2ddc"
      },
      "source": [
        "print(len(weekly_dfs))\n",
        "new_df_rows = []\n",
        "for w in range(len(weekly_dfs)):\n",
        "  df = weekly_dfs[w]\n",
        "  for idx, row in df.iterrows():\n",
        "    row_ = row.to_dict()\n",
        "    if any(tag in row['hashtags'].lower() for tag in pro_tags):\n",
        "      row_['mask_label'] = 1\n",
        "      new_df_rows.append(row_)\n",
        "    elif any(tag in row['hashtags'].lower() for tag in anti_tags):\n",
        "      row_['mask_label'] = 0\n",
        "      new_df_rows.append(row_)\n",
        "mask_label_df= pd.DataFrame(new_df_rows)\n",
        "  # print(num_pro)\n",
        "  # print(num_anti)"
      ],
      "execution_count": null,
      "outputs": [
        {
          "output_type": "stream",
          "text": [
            "32\n"
          ],
          "name": "stdout"
        }
      ]
    },
    {
      "cell_type": "code",
      "metadata": {
        "colab": {
          "base_uri": "https://localhost:8080/"
        },
        "id": "m0Et8106KqYa",
        "outputId": "59103cb2-ff02-48d2-b8cf-e630dde4b300"
      },
      "source": [
        "print(len(mask_label_df[mask_label_df['mask_label'] == 0]))\n",
        "print(len(mask_label_df[mask_label_df['mask_label'] == 1]))\n",
        "mask_label_df.to_csv(os.getcwd() + '/masklabel1.tsv', sep='\\t')"
      ],
      "execution_count": null,
      "outputs": [
        {
          "output_type": "stream",
          "text": [
            "968\n",
            "13900\n"
          ],
          "name": "stdout"
        }
      ]
    },
    {
      "cell_type": "code",
      "metadata": {
        "colab": {
          "base_uri": "https://localhost:8080/",
          "height": 35
        },
        "id": "OKwvvgR5LvH3",
        "outputId": "aea2a8d4-f9d3-4761-8b40-df93bbb783f4"
      },
      "source": [],
      "execution_count": null,
      "outputs": [
        {
          "output_type": "execute_result",
          "data": {
            "application/vnd.google.colaboratory.intrinsic+json": {
              "type": "string"
            },
            "text/plain": [
              "'/content/gdrive/My Drive/ML Research ListerVosoughi/SMIP/Data'"
            ]
          },
          "metadata": {
            "tags": []
          },
          "execution_count": 28
        }
      ]
    },
    {
      "cell_type": "code",
      "metadata": {
        "id": "F4IeM0tVYMgg",
        "colab": {
          "base_uri": "https://localhost:8080/"
        },
        "outputId": "991775c2-d344-45f5-9c91-57d5bb35f98b"
      },
      "source": [
        "new_hashtags = hashtags_to_list(weeklies[w])\n",
        "pd.options.mode.chained_assignment = None\n",
        "weeklies[w].loc[:,'hashtags'] = new_hashtags"
      ],
      "execution_count": null,
      "outputs": [
        {
          "output_type": "stream",
          "text": [
            "/usr/local/lib/python3.6/dist-packages/numpy/core/_asarray.py:83: VisibleDeprecationWarning: Creating an ndarray from ragged nested sequences (which is a list-or-tuple of lists-or-tuples-or ndarrays with different lengths or shapes) is deprecated. If you meant to do this, you must specify 'dtype=object' when creating the ndarray\n",
            "  return array(a, dtype, copy=False, order=order)\n"
          ],
          "name": "stderr"
        }
      ]
    },
    {
      "cell_type": "code",
      "metadata": {
        "id": "5LJ2ezWBhLjb"
      },
      "source": [
        "def find_unique_hashtags(weekly_df):\n",
        "  uniques = {}\n",
        "  for index, row in weekly_df.iterrows():\n",
        "    tags = row['hashtags']\n",
        "    for t in tags:\n",
        "      if t.lower() in uniques:\n",
        "        uniques[t.lower()] += 1\n",
        "      else: uniques[t.lower()] = 1\n",
        "  return uniques"
      ],
      "execution_count": null,
      "outputs": []
    },
    {
      "cell_type": "code",
      "metadata": {
        "id": "mKU563qFhfqn"
      },
      "source": [
        "# PRINTS ALL UNIQUE HASHTAGS FROM A WEEK IN THEIR ORDER OF OCCURANCE\n",
        "# all_hashtags = find_unique_hashtags(weeklies[w])\n",
        "# sorted(all_hashtags.items(), key=operator.itemgetter(1), reverse=True)\n",
        "anti_tags = set(['nomask', 'burnyourmasks', 'antimask','antimaskers', 'nolockdowns', 'nonewnormal', 'wewillnotcomply'])\n",
        "pro_tags = set(['wearamask', 'maskssavelives', 'wearadamnmask', 'wearamasksavealife', 'wearyourmask'])"
      ],
      "execution_count": null,
      "outputs": []
    },
    {
      "cell_type": "code",
      "metadata": {
        "id": "DzIaP7eN9lrg"
      },
      "source": [
        "def create_labels(pro_tags, anti_tags, weekly_df):\n",
        "  labels = []\n",
        "  for index, row in weekly_df.iterrows():\n",
        "    tags = row['hashtags']\n",
        "    if not pro_tags.isdisjoint(tags): # if there is overlap between protags and anti tags\n",
        "    # checking this first since a lot of pro mask tweets are backlash to anti mask\n",
        "      labels.append(1) # promask\n",
        "    elif not anti_tags.isdisjoint(tags): labels.append(0)\n",
        "    else: labels.append(-1) # if neither explicitly pro or anti, make -1 so not included in training\n",
        " # 1 if pro mask, 0 if anti mask, -1 if neither\n",
        "  weekly_df['mask_labels'] = labels"
      ],
      "execution_count": null,
      "outputs": []
    },
    {
      "cell_type": "code",
      "metadata": {
        "id": "imxVPganUSx0"
      },
      "source": [
        "dirpath = os.getcwd()\n",
        "create_labels(pro_tags, anti_tags, weeklies[w])"
      ],
      "execution_count": null,
      "outputs": []
    },
    {
      "cell_type": "code",
      "metadata": {
        "id": "-EDZx_mmV3YB",
        "colab": {
          "base_uri": "https://localhost:8080/",
          "height": 462
        },
        "outputId": "81423baa-b056-4255-90e0-69d126fe7b32"
      },
      "source": [
        "weeklies[w][weeklies[w]['mask_labels'] != -1]"
      ],
      "execution_count": null,
      "outputs": [
        {
          "output_type": "execute_result",
          "data": {
            "text/html": [
              "<div>\n",
              "<style scoped>\n",
              "    .dataframe tbody tr th:only-of-type {\n",
              "        vertical-align: middle;\n",
              "    }\n",
              "\n",
              "    .dataframe tbody tr th {\n",
              "        vertical-align: top;\n",
              "    }\n",
              "\n",
              "    .dataframe thead th {\n",
              "        text-align: right;\n",
              "    }\n",
              "</style>\n",
              "<table border=\"1\" class=\"dataframe\">\n",
              "  <thead>\n",
              "    <tr style=\"text-align: right;\">\n",
              "      <th></th>\n",
              "      <th>hashtags</th>\n",
              "      <th>user id</th>\n",
              "      <th>username</th>\n",
              "      <th>name</th>\n",
              "      <th>text</th>\n",
              "      <th>linked urls</th>\n",
              "      <th>bio</th>\n",
              "      <th>retweeted user id</th>\n",
              "      <th>retweet_text</th>\n",
              "      <th>time</th>\n",
              "      <th>week</th>\n",
              "      <th>mask_labels</th>\n",
              "    </tr>\n",
              "  </thead>\n",
              "  <tbody>\n",
              "    <tr>\n",
              "      <th>512364</th>\n",
              "      <td>[endlockdownuk, endlockdownnow, plandemic, non...</td>\n",
              "      <td>369438464</td>\n",
              "      <td>PeterTownsend2</td>\n",
              "      <td>Peter Townsend</td>\n",
              "      <td>RT @PeterTownsend2: There's no welcome at the ...</td>\n",
              "      <td>[]</td>\n",
              "      <td>In search of truth, justice and liberty. I don...</td>\n",
              "      <td>369438464</td>\n",
              "      <td>There's no welcome at the seaside in this lock...</td>\n",
              "      <td>2020-04-30 17:49:55</td>\n",
              "      <td>18.0</td>\n",
              "      <td>0</td>\n",
              "    </tr>\n",
              "    <tr>\n",
              "      <th>629839</th>\n",
              "      <td>[essentials, sanitised, sanitisedproducts, san...</td>\n",
              "      <td>636879133</td>\n",
              "      <td>CityMallNyali</td>\n",
              "      <td>City Mall</td>\n",
              "      <td>Shop all your #essentials shoprite @citymallny...</td>\n",
              "      <td>[{'url': 'https://t.co/RF0xb8obW0', 'expanded_...</td>\n",
              "      <td>Mombasa's premier shopping mall is the home to...</td>\n",
              "      <td></td>\n",
              "      <td></td>\n",
              "      <td>2020-04-27 10:30:24</td>\n",
              "      <td>18.0</td>\n",
              "      <td>1</td>\n",
              "    </tr>\n",
              "    <tr>\n",
              "      <th>1039648</th>\n",
              "      <td>[wearamask, staysafe, style, ArtistOnTwitter, ...</td>\n",
              "      <td>732902887517528000</td>\n",
              "      <td>AbbyCreates_art</td>\n",
              "      <td>Abby Juli</td>\n",
              "      <td>#wearamask. #staysafe. with #style\\n#ArtistOnT...</td>\n",
              "      <td>[{'url': 'https://t.co/v2ujU6COem', 'expanded_...</td>\n",
              "      <td>Unique and orginal artwork \\n💕 Inspired by eve...</td>\n",
              "      <td></td>\n",
              "      <td></td>\n",
              "      <td>2020-04-29 13:33:31</td>\n",
              "      <td>18.0</td>\n",
              "      <td>1</td>\n",
              "    </tr>\n",
              "    <tr>\n",
              "      <th>1039808</th>\n",
              "      <td>[quarantine2020, stayconnected, quarantinelife...</td>\n",
              "      <td>17019568</td>\n",
              "      <td>Neita</td>\n",
              "      <td>Neita</td>\n",
              "      <td>Agreed.\\nWe need physical distancing but not s...</td>\n",
              "      <td>[{'url': 'https://t.co/tcWQ1fnMzf', 'expanded_...</td>\n",
              "      <td>Christ Follower, Wife, Momma, Nana, Creative, ...</td>\n",
              "      <td></td>\n",
              "      <td></td>\n",
              "      <td>2020-04-29 02:20:41</td>\n",
              "      <td>18.0</td>\n",
              "      <td>1</td>\n",
              "    </tr>\n",
              "    <tr>\n",
              "      <th>1157862</th>\n",
              "      <td>[covid19, Audiologist, coronavírus, StayatHome...</td>\n",
              "      <td>136935214</td>\n",
              "      <td>Audiologydoctor</td>\n",
              "      <td>Dr. Andres Godinez (Audiologist)</td>\n",
              "      <td>Breaking news (#covid19)\\nExercise caution whe...</td>\n",
              "      <td>[]</td>\n",
              "      <td>Doctor of Audiology/ShermanOakshearing.com/\\n8...</td>\n",
              "      <td></td>\n",
              "      <td></td>\n",
              "      <td>2020-04-28 06:51:00</td>\n",
              "      <td>18.0</td>\n",
              "      <td>1</td>\n",
              "    </tr>\n",
              "  </tbody>\n",
              "</table>\n",
              "</div>"
            ],
            "text/plain": [
              "                                                  hashtags  ... mask_labels\n",
              "512364   [endlockdownuk, endlockdownnow, plandemic, non...  ...           0\n",
              "629839   [essentials, sanitised, sanitisedproducts, san...  ...           1\n",
              "1039648  [wearamask, staysafe, style, ArtistOnTwitter, ...  ...           1\n",
              "1039808  [quarantine2020, stayconnected, quarantinelife...  ...           1\n",
              "1157862  [covid19, Audiologist, coronavírus, StayatHome...  ...           1\n",
              "\n",
              "[5 rows x 12 columns]"
            ]
          },
          "metadata": {
            "tags": []
          },
          "execution_count": 101
        }
      ]
    },
    {
      "cell_type": "code",
      "metadata": {
        "id": "cUVQaJ6vNcyH"
      },
      "source": [
        "this_week = str(int(weeklies[w].iloc[0,10]))\n",
        "weeklies[w][weeklies[w]['mask_labels'] == -1].to_csv(dirpath + '/' + month + '/' + 'mask_unlabeled' + this_week + '.tsv', sep='\\t')"
      ],
      "execution_count": null,
      "outputs": []
    },
    {
      "cell_type": "code",
      "metadata": {
        "id": "cOCQoqj9cCvF"
      },
      "source": [
        "def compile_mask_labels():\n",
        "  months = os.listdir(dirpath)\n",
        "  df_list = []\n",
        "  for m in months:\n",
        "    for f in os.listdir(dirpath + '/' + m):\n",
        "      if f[:10] == 'masklabels':\n",
        "        path_to_file = dirpath + '/' + m + '/' + f\n",
        "        these_labels = pd.read_csv(path_to_file, sep='\\t', header=0)\n",
        "        df_list.append(these_labels)\n",
        "  label_df = pd.concat(df_list).drop('Unnamed: 0', axis=1).reset_index().drop('index', axis=1)\n",
        "  label_df.to_csv(dirpath + '/' + 'mask_unlabeled.tsv', sep='\\t')\n",
        "  return True"
      ],
      "execution_count": null,
      "outputs": []
    },
    {
      "cell_type": "code",
      "metadata": {
        "id": "nBivd5tsgJLO",
        "colab": {
          "base_uri": "https://localhost:8080/",
          "height": 334
        },
        "outputId": "6c08cfd7-03ad-4a96-f18d-ba9969ec8477"
      },
      "source": [
        "compile_mask_labels()"
      ],
      "execution_count": null,
      "outputs": [
        {
          "output_type": "error",
          "ename": "NotADirectoryError",
          "evalue": "ignored",
          "traceback": [
            "\u001b[0;31m---------------------------------------------------------------------------\u001b[0m",
            "\u001b[0;31mNotADirectoryError\u001b[0m                        Traceback (most recent call last)",
            "\u001b[0;32m<ipython-input-26-a3ad4ccf147b>\u001b[0m in \u001b[0;36m<module>\u001b[0;34m()\u001b[0m\n\u001b[0;32m----> 1\u001b[0;31m \u001b[0mcompile_mask_labels\u001b[0m\u001b[0;34m(\u001b[0m\u001b[0;34m)\u001b[0m\u001b[0;34m\u001b[0m\u001b[0;34m\u001b[0m\u001b[0m\n\u001b[0m",
            "\u001b[0;32m<ipython-input-25-e359ccdd9805>\u001b[0m in \u001b[0;36mcompile_mask_labels\u001b[0;34m()\u001b[0m\n\u001b[1;32m      3\u001b[0m   \u001b[0mdf_list\u001b[0m \u001b[0;34m=\u001b[0m \u001b[0;34m[\u001b[0m\u001b[0;34m]\u001b[0m\u001b[0;34m\u001b[0m\u001b[0;34m\u001b[0m\u001b[0m\n\u001b[1;32m      4\u001b[0m   \u001b[0;32mfor\u001b[0m \u001b[0mm\u001b[0m \u001b[0;32min\u001b[0m \u001b[0mmonths\u001b[0m\u001b[0;34m:\u001b[0m\u001b[0;34m\u001b[0m\u001b[0;34m\u001b[0m\u001b[0m\n\u001b[0;32m----> 5\u001b[0;31m     \u001b[0;32mfor\u001b[0m \u001b[0mf\u001b[0m \u001b[0;32min\u001b[0m \u001b[0mos\u001b[0m\u001b[0;34m.\u001b[0m\u001b[0mlistdir\u001b[0m\u001b[0;34m(\u001b[0m\u001b[0mdirpath\u001b[0m \u001b[0;34m+\u001b[0m \u001b[0;34m'/'\u001b[0m \u001b[0;34m+\u001b[0m \u001b[0mm\u001b[0m\u001b[0;34m)\u001b[0m\u001b[0;34m:\u001b[0m\u001b[0;34m\u001b[0m\u001b[0;34m\u001b[0m\u001b[0m\n\u001b[0m\u001b[1;32m      6\u001b[0m       \u001b[0;32mif\u001b[0m \u001b[0mf\u001b[0m\u001b[0;34m[\u001b[0m\u001b[0;34m:\u001b[0m\u001b[0;36m10\u001b[0m\u001b[0;34m]\u001b[0m \u001b[0;34m==\u001b[0m \u001b[0;34m'masklabels'\u001b[0m\u001b[0;34m:\u001b[0m\u001b[0;34m\u001b[0m\u001b[0;34m\u001b[0m\u001b[0m\n\u001b[1;32m      7\u001b[0m         \u001b[0mpath_to_file\u001b[0m \u001b[0;34m=\u001b[0m \u001b[0mdirpath\u001b[0m \u001b[0;34m+\u001b[0m \u001b[0;34m'/'\u001b[0m \u001b[0;34m+\u001b[0m \u001b[0mm\u001b[0m \u001b[0;34m+\u001b[0m \u001b[0;34m'/'\u001b[0m \u001b[0;34m+\u001b[0m \u001b[0mf\u001b[0m\u001b[0;34m\u001b[0m\u001b[0;34m\u001b[0m\u001b[0m\n",
            "\u001b[0;31mNotADirectoryError\u001b[0m: [Errno 20] Not a directory: '/content/gdrive/My Drive/ML Research ListerVosoughi/SMIP/Data/masklabels.tsv'"
          ]
        }
      ]
    }
  ]
}